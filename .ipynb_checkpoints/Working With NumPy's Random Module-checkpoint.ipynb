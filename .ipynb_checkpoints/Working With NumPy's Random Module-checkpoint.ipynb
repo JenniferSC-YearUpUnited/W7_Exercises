{
 "cells": [
  {
   "cell_type": "code",
   "execution_count": 1,
   "id": "843b82f5-c8b8-4229-bd5b-7fd6f06a5ff4",
   "metadata": {},
   "outputs": [],
   "source": [
    "import numpy as np"
   ]
  },
  {
   "cell_type": "markdown",
   "id": "4e0d2958-60f1-4a3d-aef9-12049b190f1b",
   "metadata": {},
   "source": [
    "# Generating Random Numbers"
   ]
  },
  {
   "cell_type": "code",
   "execution_count": 4,
   "id": "9d83635f-4171-444b-9c2c-c74d13c67ad7",
   "metadata": {},
   "outputs": [
    {
     "data": {
      "text/plain": [
       "array([11, 13], dtype=int32)"
      ]
     },
     "execution_count": 4,
     "metadata": {},
     "output_type": "execute_result"
    }
   ],
   "source": [
    "r_1 = np.random.randint(1, 20, size =(2))\n",
    "r_1"
   ]
  },
  {
   "cell_type": "code",
   "execution_count": 5,
   "id": "e6426718-bd47-4f26-9070-2878b8002fca",
   "metadata": {},
   "outputs": [
    {
     "name": "stdout",
     "output_type": "stream",
     "text": [
      "[11 13]\n"
     ]
    }
   ],
   "source": [
    "print(r_1)"
   ]
  },
  {
   "cell_type": "code",
   "execution_count": 10,
   "id": "b1ae65a8-9a44-497c-848f-eb0201e23b2a",
   "metadata": {},
   "outputs": [
    {
     "data": {
      "text/plain": [
       "array([[5, 2]], dtype=int32)"
      ]
     },
     "execution_count": 10,
     "metadata": {},
     "output_type": "execute_result"
    }
   ],
   "source": [
    "r_2 = np.random.randint(1, 20, size=(1, 2,))\n",
    "r_2"
   ]
  },
  {
   "cell_type": "code",
   "execution_count": 11,
   "id": "e07c6994-e38b-4df8-8efb-262bfffe7173",
   "metadata": {},
   "outputs": [
    {
     "name": "stdout",
     "output_type": "stream",
     "text": [
      "[[5 2]]\n"
     ]
    }
   ],
   "source": [
    "print(r_2)"
   ]
  },
  {
   "cell_type": "code",
   "execution_count": 12,
   "id": "b9c50872-3958-45c7-83ef-0b34220cfc89",
   "metadata": {},
   "outputs": [
    {
     "data": {
      "text/plain": [
       "array([[0.77271829],\n",
       "       [0.9276177 ]])"
      ]
     },
     "execution_count": 12,
     "metadata": {},
     "output_type": "execute_result"
    }
   ],
   "source": [
    "r_3 = np.random.rand(2, 1)\n",
    "r_3"
   ]
  },
  {
   "cell_type": "code",
   "execution_count": 13,
   "id": "9f9fd5f3-adb0-4149-9fd4-6dfbce2c7932",
   "metadata": {},
   "outputs": [
    {
     "name": "stdout",
     "output_type": "stream",
     "text": [
      "[[0.77271829]\n",
      " [0.9276177 ]]\n"
     ]
    }
   ],
   "source": [
    "print(r_3)"
   ]
  },
  {
   "cell_type": "code",
   "execution_count": 14,
   "id": "cb0874d1-eef1-4329-8b9e-d2b6df2f76f6",
   "metadata": {},
   "outputs": [
    {
     "data": {
      "text/plain": [
       "array([[83, 41, 64, 72, 66],\n",
       "       [55, 86, 54, 70, 92],\n",
       "       [58, 62, 46, 54, 55],\n",
       "       [94, 83, 85, 23, 20]], dtype=int32)"
      ]
     },
     "execution_count": 14,
     "metadata": {},
     "output_type": "execute_result"
    }
   ],
   "source": [
    "r_4 = np.random.randint(20, 100, size=(4, 5))\n",
    "r_4"
   ]
  },
  {
   "cell_type": "code",
   "execution_count": 15,
   "id": "1e0a818c-94f8-4dcd-ac1e-ea6a2e397e32",
   "metadata": {},
   "outputs": [
    {
     "name": "stdout",
     "output_type": "stream",
     "text": [
      "[[83 41 64 72 66]\n",
      " [55 86 54 70 92]\n",
      " [58 62 46 54 55]\n",
      " [94 83 85 23 20]]\n"
     ]
    }
   ],
   "source": [
    "print(r_4)"
   ]
  },
  {
   "cell_type": "code",
   "execution_count": 16,
   "id": "52094c6a-840e-423c-b5e2-3a34f950af89",
   "metadata": {},
   "outputs": [
    {
     "data": {
      "text/plain": [
       "array([[0.22931695, 0.29828885, 0.36567119, 0.15758216, 0.83182774],\n",
       "       [0.56066224, 0.17015448, 0.52218711, 0.56316624, 0.99268641],\n",
       "       [0.3482948 , 0.12862425, 0.36248982, 0.6673747 , 0.97582187],\n",
       "       [0.78927412, 0.65592142, 0.51762284, 0.65257535, 0.71908297]])"
      ]
     },
     "execution_count": 16,
     "metadata": {},
     "output_type": "execute_result"
    }
   ],
   "source": [
    "r_5 = np.random.rand(4, 5)\n",
    "r_5"
   ]
  },
  {
   "cell_type": "code",
   "execution_count": 17,
   "id": "cdb3f08a-5624-4cd6-b54b-0c7ebc20514c",
   "metadata": {},
   "outputs": [
    {
     "name": "stdout",
     "output_type": "stream",
     "text": [
      "[[0.22931695 0.29828885 0.36567119 0.15758216 0.83182774]\n",
      " [0.56066224 0.17015448 0.52218711 0.56316624 0.99268641]\n",
      " [0.3482948  0.12862425 0.36248982 0.6673747  0.97582187]\n",
      " [0.78927412 0.65592142 0.51762284 0.65257535 0.71908297]]\n"
     ]
    }
   ],
   "source": [
    "print(r_5)"
   ]
  },
  {
   "cell_type": "markdown",
   "id": "2839b0f0-c880-4e48-90f9-11dd7ac00b5f",
   "metadata": {},
   "source": [
    "# Generating Random Choices from an Array"
   ]
  },
  {
   "cell_type": "code",
   "execution_count": 36,
   "id": "9b25c3d1-abce-499c-b65f-76bada73e5b8",
   "metadata": {},
   "outputs": [],
   "source": [
    "students = np.array(['jordan', 'hassan', 'jacob', 'rodolfo', 'vieri', 'symone', 'vanessa', 'craig', 'zainab', 'anthony', 'jaela', 'caitlan'])"
   ]
  },
  {
   "cell_type": "code",
   "execution_count": 37,
   "id": "a2382eeb-0b57-4827-b563-4af18b931516",
   "metadata": {},
   "outputs": [
    {
     "data": {
      "text/plain": [
       "np.str_('vieri')"
      ]
     },
     "execution_count": 37,
     "metadata": {},
     "output_type": "execute_result"
    }
   ],
   "source": [
    "call_on = np.random.choice(students)\n",
    "call_on"
   ]
  },
  {
   "cell_type": "code",
   "execution_count": 38,
   "id": "dccb54ff-c677-4d9d-a567-0834d108202e",
   "metadata": {},
   "outputs": [
    {
     "name": "stdout",
     "output_type": "stream",
     "text": [
      "vieri\n"
     ]
    }
   ],
   "source": [
    "print(call_on)"
   ]
  },
  {
   "cell_type": "code",
   "execution_count": 39,
   "id": "3c14388c-2b6f-4355-9840-e53d84d08f4a",
   "metadata": {},
   "outputs": [
    {
     "data": {
      "text/plain": [
       "array([['vanessa', 'zainab', 'hassan', 'vieri'],\n",
       "       ['rodolfo', 'hassan', 'vanessa', 'vieri'],\n",
       "       ['hassan', 'rodolfo', 'rodolfo', 'jaela']], dtype='<U7')"
      ]
     },
     "execution_count": 39,
     "metadata": {},
     "output_type": "execute_result"
    }
   ],
   "source": [
    "breakout_groups = np.random.choice(students, size=(3, 4))\n",
    "breakout_groups"
   ]
  },
  {
   "cell_type": "code",
   "execution_count": 40,
   "id": "071c7170-bc0e-4ef0-b176-b5aa72454e19",
   "metadata": {},
   "outputs": [
    {
     "name": "stdout",
     "output_type": "stream",
     "text": [
      "[['vanessa' 'zainab' 'hassan' 'vieri']\n",
      " ['rodolfo' 'hassan' 'vanessa' 'vieri']\n",
      " ['hassan' 'rodolfo' 'rodolfo' 'jaela']]\n"
     ]
    }
   ],
   "source": [
    "print(breakout_groups)\n",
    "# This would not be an effective way to assign breakout groups because even though the students are chosen randomly, there are repeated names.They can't be at one breakout room once while in a different breakout room more than once."
   ]
  },
  {
   "cell_type": "code",
   "execution_count": 42,
   "id": "7a30dcf5-ab5e-489d-ae9e-83ab14617913",
   "metadata": {},
   "outputs": [
    {
     "data": {
      "text/plain": [
       "array(['jaela', 'zainab', 'jaela', 'jaela', 'zainab'], dtype='<U7')"
      ]
     },
     "execution_count": 42,
     "metadata": {},
     "output_type": "execute_result"
    }
   ],
   "source": [
    "call_on_weighted = np.random.choice(['vanessa', 'zainab', 'hassan', 'vieri', 'jaela'], p=[0.0, 0.3, 0.2, 0.1, 0.4], size=(5))\n",
    "call_on_weighted\n",
    "                "
   ]
  },
  {
   "cell_type": "code",
   "execution_count": null,
   "id": "784da5b3-97b9-4c74-bf86-83f2dead78f8",
   "metadata": {},
   "outputs": [],
   "source": [
    "# I chose the p values I assigned to each student for at least one student to never occur as it has a p value of zero, one student is more likely to occur as it has a p value of 30%, another student has a higher probability of occurence since they have p value of 40%. One of the students has a p value of 20% and another student who has a p value of 10% of occurence. Total of all probability values equal to 1."
   ]
  },
  {
   "cell_type": "code",
   "execution_count": null,
   "id": "8ac9a25d-eef4-4010-a848-5b1888a6588d",
   "metadata": {},
   "outputs": [],
   "source": []
  },
  {
   "cell_type": "code",
   "execution_count": 43,
   "id": "f62e03c5-80fa-4797-bbf3-6836514a2cfc",
   "metadata": {},
   "outputs": [
    {
     "name": "stdout",
     "output_type": "stream",
     "text": [
      "['jaela' 'zainab' 'jaela' 'jaela' 'zainab']\n"
     ]
    }
   ],
   "source": [
    "print(call_on_weighted)"
   ]
  },
  {
   "cell_type": "markdown",
   "id": "26e6c6cd-b8b4-4f87-9dac-aa0b6dc58481",
   "metadata": {},
   "source": [
    "# Generating a Normal Distribution "
   ]
  },
  {
   "cell_type": "code",
   "execution_count": 44,
   "id": "d4ae0a0a-f3b8-4cb2-9fb5-4343ee982ad1",
   "metadata": {},
   "outputs": [
    {
     "data": {
      "text/plain": [
       "array([[12.23127795,  7.3668304 , 14.31159762, 13.70707309,  6.41158549],\n",
       "       [ 4.39083526, 12.52029572,  6.8084508 , 13.8035415 ,  4.99712445],\n",
       "       [ 5.53269848,  7.595068  ,  8.54123044, 11.67264863, 17.95858532],\n",
       "       [11.72786133, 14.85128755, 11.5607248 , 13.78635778, 13.18479485]])"
      ]
     },
     "execution_count": 44,
     "metadata": {},
     "output_type": "execute_result"
    }
   ],
   "source": [
    "bell_curve = np.random.normal(loc=10, scale=5, size=(4, 5))\n",
    "bell_curve"
   ]
  },
  {
   "cell_type": "code",
   "execution_count": 45,
   "id": "ecd08d1c-1b3d-437d-a7df-033a5a84480d",
   "metadata": {},
   "outputs": [
    {
     "name": "stdout",
     "output_type": "stream",
     "text": [
      "[[12.23127795  7.3668304  14.31159762 13.70707309  6.41158549]\n",
      " [ 4.39083526 12.52029572  6.8084508  13.8035415   4.99712445]\n",
      " [ 5.53269848  7.595068    8.54123044 11.67264863 17.95858532]\n",
      " [11.72786133 14.85128755 11.5607248  13.78635778 13.18479485]]\n"
     ]
    }
   ],
   "source": [
    "print(bell_curve)"
   ]
  },
  {
   "cell_type": "code",
   "execution_count": null,
   "id": "ce014a51-e624-486e-b999-65bcf83676f0",
   "metadata": {},
   "outputs": [],
   "source": []
  }
 ],
 "metadata": {
  "kernelspec": {
   "display_name": "Python 3 (ipykernel)",
   "language": "python",
   "name": "python3"
  },
  "language_info": {
   "codemirror_mode": {
    "name": "ipython",
    "version": 3
   },
   "file_extension": ".py",
   "mimetype": "text/x-python",
   "name": "python",
   "nbconvert_exporter": "python",
   "pygments_lexer": "ipython3",
   "version": "3.12.3"
  }
 },
 "nbformat": 4,
 "nbformat_minor": 5
}
