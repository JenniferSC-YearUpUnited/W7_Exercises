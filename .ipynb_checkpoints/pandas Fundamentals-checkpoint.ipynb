{
 "cells": [
  {
   "cell_type": "code",
   "execution_count": 1,
   "id": "ab36c1dc-c078-49ba-b82d-dba4663451d2",
   "metadata": {},
   "outputs": [],
   "source": [
    "import numpy as np\n",
    "import pandas as pd"
   ]
  },
  {
   "cell_type": "markdown",
   "id": "481d749c-f61d-4772-af90-302a9ed9f88f",
   "metadata": {},
   "source": [
    "# Series"
   ]
  },
  {
   "cell_type": "code",
   "execution_count": 2,
   "id": "6b452387-8516-41c8-8da7-c7628d0741a9",
   "metadata": {},
   "outputs": [
    {
     "data": {
      "text/plain": [
       "[1, 2, 3, 4]"
      ]
     },
     "execution_count": 2,
     "metadata": {},
     "output_type": "execute_result"
    }
   ],
   "source": [
    "aa = [1, 2, 3, 4]\n",
    "aa"
   ]
  },
  {
   "cell_type": "code",
   "execution_count": 3,
   "id": "2c1fdad1-4054-48ae-8f19-fae8379ac980",
   "metadata": {},
   "outputs": [
    {
     "data": {
      "text/plain": [
       "(5, 6, 7, 8)"
      ]
     },
     "execution_count": 3,
     "metadata": {},
     "output_type": "execute_result"
    }
   ],
   "source": [
    "ab = (5, 6, 7, 8)\n",
    "ab"
   ]
  },
  {
   "cell_type": "code",
   "execution_count": 4,
   "id": "97ae4dcf-9b5f-4ff1-b8df-a0448c82ebbf",
   "metadata": {},
   "outputs": [
    {
     "data": {
      "text/plain": [
       "[9, 10, 11, 12]"
      ]
     },
     "execution_count": 4,
     "metadata": {},
     "output_type": "execute_result"
    }
   ],
   "source": [
    "ac = [9, 10, 11, 12]\n",
    "ac"
   ]
  },
  {
   "cell_type": "code",
   "execution_count": 5,
   "id": "4f4e5bfb-09a8-49e8-8b47-0ccb16002ee8",
   "metadata": {},
   "outputs": [
    {
     "data": {
      "text/plain": [
       "{'first': 13, 'second': 14, 'third': 15, 'fourth': 16}"
      ]
     },
     "execution_count": 5,
     "metadata": {},
     "output_type": "execute_result"
    }
   ],
   "source": [
    "ad = {'first':13, 'second':14, 'third':15, 'fourth':16}\n",
    "ad"
   ]
  },
  {
   "cell_type": "code",
   "execution_count": 6,
   "id": "a5146f88-451a-4546-9a53-75da3e8066ac",
   "metadata": {},
   "outputs": [
    {
     "name": "stdout",
     "output_type": "stream",
     "text": [
      "0    1\n",
      "1    2\n",
      "2    3\n",
      "3    4\n",
      "dtype: int64\n"
     ]
    }
   ],
   "source": [
    "ser1 = pd.Series(aa)\n",
    "print(ser1)"
   ]
  },
  {
   "cell_type": "code",
   "execution_count": 7,
   "id": "e43fcae7-207a-4f02-8010-72ea7706fd02",
   "metadata": {},
   "outputs": [
    {
     "name": "stdout",
     "output_type": "stream",
     "text": [
      "0    5\n",
      "1    6\n",
      "2    7\n",
      "3    8\n",
      "dtype: int64\n"
     ]
    }
   ],
   "source": [
    "ser2 = pd.Series(ab)\n",
    "print(ser2)"
   ]
  },
  {
   "cell_type": "code",
   "execution_count": 8,
   "id": "a80a377b-25c6-4bb3-bae7-c8c13077d5b4",
   "metadata": {},
   "outputs": [
    {
     "name": "stdout",
     "output_type": "stream",
     "text": [
      "0     9\n",
      "1    10\n",
      "2    11\n",
      "3    12\n",
      "dtype: int64\n"
     ]
    }
   ],
   "source": [
    "ser3 = pd.Series(ac)\n",
    "print(ser3)"
   ]
  },
  {
   "cell_type": "code",
   "execution_count": 9,
   "id": "c4024d63-60b5-4c1b-8f73-fdc08952c0f7",
   "metadata": {},
   "outputs": [
    {
     "name": "stdout",
     "output_type": "stream",
     "text": [
      "first     13\n",
      "second    14\n",
      "third     15\n",
      "fourth    16\n",
      "dtype: int64\n"
     ]
    }
   ],
   "source": [
    "ser4 = pd.Series(ad)\n",
    "print(ser4)"
   ]
  },
  {
   "cell_type": "code",
   "execution_count": 10,
   "id": "7024b967-279f-41be-8edc-90c8cf66cf47",
   "metadata": {},
   "outputs": [
    {
     "data": {
      "text/plain": [
       "(17, 18, 19, 20)"
      ]
     },
     "execution_count": 10,
     "metadata": {},
     "output_type": "execute_result"
    }
   ],
   "source": [
    "ser5 = 17, 18, 19, 20\n",
    "ser5"
   ]
  },
  {
   "cell_type": "code",
   "execution_count": 11,
   "id": "d39430c0-2c17-4e4d-8426-eda04da5d3af",
   "metadata": {},
   "outputs": [
    {
     "ename": "TypeError",
     "evalue": "Index(...) must be called with a collection of some kind, 18 was passed",
     "output_type": "error",
     "traceback": [
      "\u001b[1;31m---------------------------------------------------------------------------\u001b[0m",
      "\u001b[1;31mTypeError\u001b[0m                                 Traceback (most recent call last)",
      "Cell \u001b[1;32mIn[11], line 1\u001b[0m\n\u001b[1;32m----> 1\u001b[0m ser5 \u001b[38;5;241m=\u001b[39m \u001b[43mpd\u001b[49m\u001b[38;5;241;43m.\u001b[39;49m\u001b[43mSeries\u001b[49m\u001b[43m(\u001b[49m\u001b[38;5;241;43m17\u001b[39;49m\u001b[43m,\u001b[49m\u001b[43m \u001b[49m\u001b[38;5;241;43m18\u001b[39;49m\u001b[43m,\u001b[49m\u001b[43m \u001b[49m\u001b[38;5;241;43m19\u001b[39;49m\u001b[43m,\u001b[49m\u001b[43m \u001b[49m\u001b[38;5;241;43m20\u001b[39;49m\u001b[43m)\u001b[49m\n\u001b[0;32m      2\u001b[0m \u001b[38;5;28mprint\u001b[39m(ser5)\n\u001b[0;32m      3\u001b[0m \u001b[38;5;66;03m# Would need to make it a series then assign it the literal values\u001b[39;00m\n\u001b[0;32m      4\u001b[0m \u001b[38;5;66;03m# TypeError: Index(...) must be called with a collection of some kind, 18 was passed\u001b[39;00m\n",
      "File \u001b[1;32m~\\AppData\\Local\\Programs\\Python\\Python312\\Lib\\site-packages\\pandas\\core\\series.py:490\u001b[0m, in \u001b[0;36mSeries.__init__\u001b[1;34m(self, data, index, dtype, name, copy, fastpath)\u001b[0m\n\u001b[0;32m    487\u001b[0m name \u001b[38;5;241m=\u001b[39m ibase\u001b[38;5;241m.\u001b[39mmaybe_extract_name(name, data, \u001b[38;5;28mtype\u001b[39m(\u001b[38;5;28mself\u001b[39m))\n\u001b[0;32m    489\u001b[0m \u001b[38;5;28;01mif\u001b[39;00m index \u001b[38;5;129;01mis\u001b[39;00m \u001b[38;5;129;01mnot\u001b[39;00m \u001b[38;5;28;01mNone\u001b[39;00m:\n\u001b[1;32m--> 490\u001b[0m     index \u001b[38;5;241m=\u001b[39m \u001b[43mensure_index\u001b[49m\u001b[43m(\u001b[49m\u001b[43mindex\u001b[49m\u001b[43m)\u001b[49m\n\u001b[0;32m    492\u001b[0m \u001b[38;5;28;01mif\u001b[39;00m dtype \u001b[38;5;129;01mis\u001b[39;00m \u001b[38;5;129;01mnot\u001b[39;00m \u001b[38;5;28;01mNone\u001b[39;00m:\n\u001b[0;32m    493\u001b[0m     dtype \u001b[38;5;241m=\u001b[39m \u001b[38;5;28mself\u001b[39m\u001b[38;5;241m.\u001b[39m_validate_dtype(dtype)\n",
      "File \u001b[1;32m~\\AppData\\Local\\Programs\\Python\\Python312\\Lib\\site-packages\\pandas\\core\\indexes\\base.py:7649\u001b[0m, in \u001b[0;36mensure_index\u001b[1;34m(index_like, copy)\u001b[0m\n\u001b[0;32m   7647\u001b[0m         \u001b[38;5;28;01mreturn\u001b[39;00m Index(index_like, copy\u001b[38;5;241m=\u001b[39mcopy, tupleize_cols\u001b[38;5;241m=\u001b[39m\u001b[38;5;28;01mFalse\u001b[39;00m)\n\u001b[0;32m   7648\u001b[0m \u001b[38;5;28;01melse\u001b[39;00m:\n\u001b[1;32m-> 7649\u001b[0m     \u001b[38;5;28;01mreturn\u001b[39;00m \u001b[43mIndex\u001b[49m\u001b[43m(\u001b[49m\u001b[43mindex_like\u001b[49m\u001b[43m,\u001b[49m\u001b[43m \u001b[49m\u001b[43mcopy\u001b[49m\u001b[38;5;241;43m=\u001b[39;49m\u001b[43mcopy\u001b[49m\u001b[43m)\u001b[49m\n",
      "File \u001b[1;32m~\\AppData\\Local\\Programs\\Python\\Python312\\Lib\\site-packages\\pandas\\core\\indexes\\base.py:526\u001b[0m, in \u001b[0;36mIndex.__new__\u001b[1;34m(cls, data, dtype, copy, name, tupleize_cols)\u001b[0m\n\u001b[0;32m    523\u001b[0m         data \u001b[38;5;241m=\u001b[39m com\u001b[38;5;241m.\u001b[39masarray_tuplesafe(data, dtype\u001b[38;5;241m=\u001b[39m_dtype_obj)\n\u001b[0;32m    525\u001b[0m \u001b[38;5;28;01melif\u001b[39;00m is_scalar(data):\n\u001b[1;32m--> 526\u001b[0m     \u001b[38;5;28;01mraise\u001b[39;00m \u001b[38;5;28;43mcls\u001b[39;49m\u001b[38;5;241;43m.\u001b[39;49m\u001b[43m_raise_scalar_data_error\u001b[49m\u001b[43m(\u001b[49m\u001b[43mdata\u001b[49m\u001b[43m)\u001b[49m\n\u001b[0;32m    527\u001b[0m \u001b[38;5;28;01melif\u001b[39;00m \u001b[38;5;28mhasattr\u001b[39m(data, \u001b[38;5;124m\"\u001b[39m\u001b[38;5;124m__array__\u001b[39m\u001b[38;5;124m\"\u001b[39m):\n\u001b[0;32m    528\u001b[0m     \u001b[38;5;28;01mreturn\u001b[39;00m \u001b[38;5;28mcls\u001b[39m(np\u001b[38;5;241m.\u001b[39masarray(data), dtype\u001b[38;5;241m=\u001b[39mdtype, copy\u001b[38;5;241m=\u001b[39mcopy, name\u001b[38;5;241m=\u001b[39mname)\n",
      "File \u001b[1;32m~\\AppData\\Local\\Programs\\Python\\Python312\\Lib\\site-packages\\pandas\\core\\indexes\\base.py:5289\u001b[0m, in \u001b[0;36mIndex._raise_scalar_data_error\u001b[1;34m(cls, data)\u001b[0m\n\u001b[0;32m   5284\u001b[0m \u001b[38;5;129m@final\u001b[39m\n\u001b[0;32m   5285\u001b[0m \u001b[38;5;129m@classmethod\u001b[39m\n\u001b[0;32m   5286\u001b[0m \u001b[38;5;28;01mdef\u001b[39;00m \u001b[38;5;21m_raise_scalar_data_error\u001b[39m(\u001b[38;5;28mcls\u001b[39m, data):\n\u001b[0;32m   5287\u001b[0m     \u001b[38;5;66;03m# We return the TypeError so that we can raise it from the constructor\u001b[39;00m\n\u001b[0;32m   5288\u001b[0m     \u001b[38;5;66;03m#  in order to keep mypy happy\u001b[39;00m\n\u001b[1;32m-> 5289\u001b[0m     \u001b[38;5;28;01mraise\u001b[39;00m \u001b[38;5;167;01mTypeError\u001b[39;00m(\n\u001b[0;32m   5290\u001b[0m         \u001b[38;5;124mf\u001b[39m\u001b[38;5;124m\"\u001b[39m\u001b[38;5;132;01m{\u001b[39;00m\u001b[38;5;28mcls\u001b[39m\u001b[38;5;241m.\u001b[39m\u001b[38;5;18m__name__\u001b[39m\u001b[38;5;132;01m}\u001b[39;00m\u001b[38;5;124m(...) must be called with a collection of some \u001b[39m\u001b[38;5;124m\"\u001b[39m\n\u001b[0;32m   5291\u001b[0m         \u001b[38;5;124mf\u001b[39m\u001b[38;5;124m\"\u001b[39m\u001b[38;5;124mkind, \u001b[39m\u001b[38;5;132;01m{\u001b[39;00m\u001b[38;5;28mrepr\u001b[39m(data)\u001b[38;5;250m \u001b[39m\u001b[38;5;28;01mif\u001b[39;00m\u001b[38;5;250m \u001b[39m\u001b[38;5;129;01mnot\u001b[39;00m\u001b[38;5;250m \u001b[39m\u001b[38;5;28misinstance\u001b[39m(data,\u001b[38;5;250m \u001b[39mnp\u001b[38;5;241m.\u001b[39mgeneric)\u001b[38;5;250m \u001b[39m\u001b[38;5;28;01melse\u001b[39;00m\u001b[38;5;250m \u001b[39m\u001b[38;5;28mstr\u001b[39m(data)\u001b[38;5;132;01m}\u001b[39;00m\u001b[38;5;124m \u001b[39m\u001b[38;5;124m\"\u001b[39m\n\u001b[0;32m   5292\u001b[0m         \u001b[38;5;124m\"\u001b[39m\u001b[38;5;124mwas passed\u001b[39m\u001b[38;5;124m\"\u001b[39m\n\u001b[0;32m   5293\u001b[0m     )\n",
      "\u001b[1;31mTypeError\u001b[0m: Index(...) must be called with a collection of some kind, 18 was passed"
     ]
    }
   ],
   "source": [
    "ser5 = pd.Series(17, 18, 19, 20)\n",
    "print(ser5)\n",
    "# Would need to make it a series then assign it the literal values\n",
    "# TypeError: Index(...) must be called with a collection of some kind, 18 was passed"
   ]
  },
  {
   "cell_type": "markdown",
   "id": "0e6dfffe-3f6f-433e-a45e-36f53e0ee057",
   "metadata": {},
   "source": [
    "# DataFrames from Series "
   ]
  },
  {
   "cell_type": "code",
   "execution_count": 12,
   "id": "bfa8fdef-291c-450f-a6e2-644a3e83c65d",
   "metadata": {},
   "outputs": [
    {
     "data": {
      "text/html": [
       "<div>\n",
       "<style scoped>\n",
       "    .dataframe tbody tr th:only-of-type {\n",
       "        vertical-align: middle;\n",
       "    }\n",
       "\n",
       "    .dataframe tbody tr th {\n",
       "        vertical-align: top;\n",
       "    }\n",
       "\n",
       "    .dataframe thead th {\n",
       "        text-align: right;\n",
       "    }\n",
       "</style>\n",
       "<table border=\"1\" class=\"dataframe\">\n",
       "  <thead>\n",
       "    <tr style=\"text-align: right;\">\n",
       "      <th></th>\n",
       "      <th>0</th>\n",
       "    </tr>\n",
       "  </thead>\n",
       "  <tbody>\n",
       "    <tr>\n",
       "      <th>0</th>\n",
       "      <td>1</td>\n",
       "    </tr>\n",
       "    <tr>\n",
       "      <th>1</th>\n",
       "      <td>2</td>\n",
       "    </tr>\n",
       "    <tr>\n",
       "      <th>2</th>\n",
       "      <td>3</td>\n",
       "    </tr>\n",
       "    <tr>\n",
       "      <th>3</th>\n",
       "      <td>4</td>\n",
       "    </tr>\n",
       "  </tbody>\n",
       "</table>\n",
       "</div>"
      ],
      "text/plain": [
       "   0\n",
       "0  1\n",
       "1  2\n",
       "2  3\n",
       "3  4"
      ]
     },
     "execution_count": 12,
     "metadata": {},
     "output_type": "execute_result"
    }
   ],
   "source": [
    "df1 = pd.DataFrame(ser1)\n",
    "df1"
   ]
  },
  {
   "cell_type": "code",
   "execution_count": 13,
   "id": "d878b490-64cd-4a36-8dc2-b075dfc6c1c7",
   "metadata": {},
   "outputs": [
    {
     "data": {
      "text/html": [
       "<div>\n",
       "<style scoped>\n",
       "    .dataframe tbody tr th:only-of-type {\n",
       "        vertical-align: middle;\n",
       "    }\n",
       "\n",
       "    .dataframe tbody tr th {\n",
       "        vertical-align: top;\n",
       "    }\n",
       "\n",
       "    .dataframe thead th {\n",
       "        text-align: right;\n",
       "    }\n",
       "</style>\n",
       "<table border=\"1\" class=\"dataframe\">\n",
       "  <thead>\n",
       "    <tr style=\"text-align: right;\">\n",
       "      <th></th>\n",
       "      <th>0</th>\n",
       "      <th>1</th>\n",
       "    </tr>\n",
       "  </thead>\n",
       "  <tbody>\n",
       "    <tr>\n",
       "      <th>0</th>\n",
       "      <td>1</td>\n",
       "      <td>5</td>\n",
       "    </tr>\n",
       "    <tr>\n",
       "      <th>1</th>\n",
       "      <td>2</td>\n",
       "      <td>6</td>\n",
       "    </tr>\n",
       "    <tr>\n",
       "      <th>2</th>\n",
       "      <td>3</td>\n",
       "      <td>7</td>\n",
       "    </tr>\n",
       "    <tr>\n",
       "      <th>3</th>\n",
       "      <td>4</td>\n",
       "      <td>8</td>\n",
       "    </tr>\n",
       "  </tbody>\n",
       "</table>\n",
       "</div>"
      ],
      "text/plain": [
       "   0  1\n",
       "0  1  5\n",
       "1  2  6\n",
       "2  3  7\n",
       "3  4  8"
      ]
     },
     "execution_count": 13,
     "metadata": {},
     "output_type": "execute_result"
    }
   ],
   "source": [
    "df1.insert(1, '1', ser2)\n",
    "df1"
   ]
  },
  {
   "cell_type": "code",
   "execution_count": 14,
   "id": "87b5e0f8-cddc-4570-a72f-1af17c197da4",
   "metadata": {},
   "outputs": [
    {
     "data": {
      "text/html": [
       "<div>\n",
       "<style scoped>\n",
       "    .dataframe tbody tr th:only-of-type {\n",
       "        vertical-align: middle;\n",
       "    }\n",
       "\n",
       "    .dataframe tbody tr th {\n",
       "        vertical-align: top;\n",
       "    }\n",
       "\n",
       "    .dataframe thead th {\n",
       "        text-align: right;\n",
       "    }\n",
       "</style>\n",
       "<table border=\"1\" class=\"dataframe\">\n",
       "  <thead>\n",
       "    <tr style=\"text-align: right;\">\n",
       "      <th></th>\n",
       "      <th>0</th>\n",
       "      <th>1</th>\n",
       "      <th>2</th>\n",
       "    </tr>\n",
       "  </thead>\n",
       "  <tbody>\n",
       "    <tr>\n",
       "      <th>0</th>\n",
       "      <td>1</td>\n",
       "      <td>5</td>\n",
       "      <td>9</td>\n",
       "    </tr>\n",
       "    <tr>\n",
       "      <th>1</th>\n",
       "      <td>2</td>\n",
       "      <td>6</td>\n",
       "      <td>10</td>\n",
       "    </tr>\n",
       "    <tr>\n",
       "      <th>2</th>\n",
       "      <td>3</td>\n",
       "      <td>7</td>\n",
       "      <td>11</td>\n",
       "    </tr>\n",
       "    <tr>\n",
       "      <th>3</th>\n",
       "      <td>4</td>\n",
       "      <td>8</td>\n",
       "      <td>12</td>\n",
       "    </tr>\n",
       "  </tbody>\n",
       "</table>\n",
       "</div>"
      ],
      "text/plain": [
       "   0  1   2\n",
       "0  1  5   9\n",
       "1  2  6  10\n",
       "2  3  7  11\n",
       "3  4  8  12"
      ]
     },
     "execution_count": 14,
     "metadata": {},
     "output_type": "execute_result"
    }
   ],
   "source": [
    "df1.insert(2, '2', ser3)\n",
    "df1"
   ]
  },
  {
   "cell_type": "code",
   "execution_count": 15,
   "id": "78791ac7-afd9-4730-a512-69ea3693c18d",
   "metadata": {},
   "outputs": [
    {
     "data": {
      "text/html": [
       "<div>\n",
       "<style scoped>\n",
       "    .dataframe tbody tr th:only-of-type {\n",
       "        vertical-align: middle;\n",
       "    }\n",
       "\n",
       "    .dataframe tbody tr th {\n",
       "        vertical-align: top;\n",
       "    }\n",
       "\n",
       "    .dataframe thead th {\n",
       "        text-align: right;\n",
       "    }\n",
       "</style>\n",
       "<table border=\"1\" class=\"dataframe\">\n",
       "  <thead>\n",
       "    <tr style=\"text-align: right;\">\n",
       "      <th></th>\n",
       "      <th>0</th>\n",
       "      <th>1</th>\n",
       "      <th>2</th>\n",
       "      <th>3</th>\n",
       "    </tr>\n",
       "  </thead>\n",
       "  <tbody>\n",
       "    <tr>\n",
       "      <th>0</th>\n",
       "      <td>1</td>\n",
       "      <td>5</td>\n",
       "      <td>9</td>\n",
       "      <td>NaN</td>\n",
       "    </tr>\n",
       "    <tr>\n",
       "      <th>1</th>\n",
       "      <td>2</td>\n",
       "      <td>6</td>\n",
       "      <td>10</td>\n",
       "      <td>NaN</td>\n",
       "    </tr>\n",
       "    <tr>\n",
       "      <th>2</th>\n",
       "      <td>3</td>\n",
       "      <td>7</td>\n",
       "      <td>11</td>\n",
       "      <td>NaN</td>\n",
       "    </tr>\n",
       "    <tr>\n",
       "      <th>3</th>\n",
       "      <td>4</td>\n",
       "      <td>8</td>\n",
       "      <td>12</td>\n",
       "      <td>NaN</td>\n",
       "    </tr>\n",
       "  </tbody>\n",
       "</table>\n",
       "</div>"
      ],
      "text/plain": [
       "   0  1   2   3\n",
       "0  1  5   9 NaN\n",
       "1  2  6  10 NaN\n",
       "2  3  7  11 NaN\n",
       "3  4  8  12 NaN"
      ]
     },
     "execution_count": 15,
     "metadata": {},
     "output_type": "execute_result"
    }
   ],
   "source": [
    "df1.insert(3, '3', ser4)\n",
    "df1"
   ]
  },
  {
   "cell_type": "code",
   "execution_count": 16,
   "id": "c98dbb1f-7a97-4311-9346-760c0086a19b",
   "metadata": {},
   "outputs": [],
   "source": [
    "# When I call ser 4 is a series in a dictionary with key as strings and values as integers. Compared to the other Series data used it has mix data types resulting in NaN values."
   ]
  },
  {
   "cell_type": "code",
   "execution_count": 17,
   "id": "01885af3-9216-455f-9764-e293791f7059",
   "metadata": {},
   "outputs": [
    {
     "data": {
      "text/html": [
       "<div>\n",
       "<style scoped>\n",
       "    .dataframe tbody tr th:only-of-type {\n",
       "        vertical-align: middle;\n",
       "    }\n",
       "\n",
       "    .dataframe tbody tr th {\n",
       "        vertical-align: top;\n",
       "    }\n",
       "\n",
       "    .dataframe thead th {\n",
       "        text-align: right;\n",
       "    }\n",
       "</style>\n",
       "<table border=\"1\" class=\"dataframe\">\n",
       "  <thead>\n",
       "    <tr style=\"text-align: right;\">\n",
       "      <th></th>\n",
       "      <th>0</th>\n",
       "      <th>1</th>\n",
       "      <th>2</th>\n",
       "      <th>3</th>\n",
       "    </tr>\n",
       "  </thead>\n",
       "  <tbody>\n",
       "    <tr>\n",
       "      <th>0</th>\n",
       "      <td>1</td>\n",
       "      <td>5</td>\n",
       "      <td>9</td>\n",
       "      <td>NaN</td>\n",
       "    </tr>\n",
       "    <tr>\n",
       "      <th>1</th>\n",
       "      <td>2</td>\n",
       "      <td>6</td>\n",
       "      <td>10</td>\n",
       "      <td>NaN</td>\n",
       "    </tr>\n",
       "    <tr>\n",
       "      <th>2</th>\n",
       "      <td>3</td>\n",
       "      <td>7</td>\n",
       "      <td>11</td>\n",
       "      <td>NaN</td>\n",
       "    </tr>\n",
       "    <tr>\n",
       "      <th>3</th>\n",
       "      <td>4</td>\n",
       "      <td>8</td>\n",
       "      <td>12</td>\n",
       "      <td>NaN</td>\n",
       "    </tr>\n",
       "    <tr>\n",
       "      <th>4</th>\n",
       "      <td>5</td>\n",
       "      <td>9</td>\n",
       "      <td>12</td>\n",
       "      <td>0.0</td>\n",
       "    </tr>\n",
       "  </tbody>\n",
       "</table>\n",
       "</div>"
      ],
      "text/plain": [
       "   0  1   2    3\n",
       "0  1  5   9  NaN\n",
       "1  2  6  10  NaN\n",
       "2  3  7  11  NaN\n",
       "3  4  8  12  NaN\n",
       "4  5  9  12  0.0"
      ]
     },
     "execution_count": 17,
     "metadata": {},
     "output_type": "execute_result"
    }
   ],
   "source": [
    "df1.loc['4'] = [5, 9, 12, 0]\n",
    "df1"
   ]
  },
  {
   "cell_type": "markdown",
   "id": "b9b7c7d8-6cc5-4756-8cea-aa7756a1ede5",
   "metadata": {},
   "source": [
    "# Reading Data into a DataFrame"
   ]
  },
  {
   "cell_type": "code",
   "execution_count": 18,
   "id": "ca19eb4b-594e-4e92-a41c-a6291b2d5f42",
   "metadata": {},
   "outputs": [
    {
     "data": {
      "text/html": [
       "<div>\n",
       "<style scoped>\n",
       "    .dataframe tbody tr th:only-of-type {\n",
       "        vertical-align: middle;\n",
       "    }\n",
       "\n",
       "    .dataframe tbody tr th {\n",
       "        vertical-align: top;\n",
       "    }\n",
       "\n",
       "    .dataframe thead th {\n",
       "        text-align: right;\n",
       "    }\n",
       "</style>\n",
       "<table border=\"1\" class=\"dataframe\">\n",
       "  <thead>\n",
       "    <tr style=\"text-align: right;\">\n",
       "      <th></th>\n",
       "      <th>title</th>\n",
       "      <th>description</th>\n",
       "      <th>category</th>\n",
       "      <th>language</th>\n",
       "      <th>actor_name</th>\n",
       "    </tr>\n",
       "  </thead>\n",
       "  <tbody>\n",
       "    <tr>\n",
       "      <th>0</th>\n",
       "      <td>ACADEMY DINOSAUR</td>\n",
       "      <td>A Epic Drama of a Feminist And a Mad Scientist...</td>\n",
       "      <td>Documentary</td>\n",
       "      <td>English</td>\n",
       "      <td>PENELOPE GUINESS</td>\n",
       "    </tr>\n",
       "    <tr>\n",
       "      <th>1</th>\n",
       "      <td>ACADEMY DINOSAUR</td>\n",
       "      <td>A Epic Drama of a Feminist And a Mad Scientist...</td>\n",
       "      <td>Documentary</td>\n",
       "      <td>English</td>\n",
       "      <td>CHRISTIAN GABLE</td>\n",
       "    </tr>\n",
       "    <tr>\n",
       "      <th>2</th>\n",
       "      <td>ACADEMY DINOSAUR</td>\n",
       "      <td>A Epic Drama of a Feminist And a Mad Scientist...</td>\n",
       "      <td>Documentary</td>\n",
       "      <td>English</td>\n",
       "      <td>LUCILLE TRACY</td>\n",
       "    </tr>\n",
       "    <tr>\n",
       "      <th>3</th>\n",
       "      <td>ACADEMY DINOSAUR</td>\n",
       "      <td>A Epic Drama of a Feminist And a Mad Scientist...</td>\n",
       "      <td>Documentary</td>\n",
       "      <td>English</td>\n",
       "      <td>SANDRA PECK</td>\n",
       "    </tr>\n",
       "    <tr>\n",
       "      <th>4</th>\n",
       "      <td>ACADEMY DINOSAUR</td>\n",
       "      <td>A Epic Drama of a Feminist And a Mad Scientist...</td>\n",
       "      <td>Documentary</td>\n",
       "      <td>English</td>\n",
       "      <td>JOHNNY CAGE</td>\n",
       "    </tr>\n",
       "    <tr>\n",
       "      <th>...</th>\n",
       "      <td>...</td>\n",
       "      <td>...</td>\n",
       "      <td>...</td>\n",
       "      <td>...</td>\n",
       "      <td>...</td>\n",
       "    </tr>\n",
       "    <tr>\n",
       "      <th>257</th>\n",
       "      <td>ATTRACTION NEWTON</td>\n",
       "      <td>A Astounding Panorama of a Composer And a Fris...</td>\n",
       "      <td>New</td>\n",
       "      <td>English</td>\n",
       "      <td>GARY PENN</td>\n",
       "    </tr>\n",
       "    <tr>\n",
       "      <th>258</th>\n",
       "      <td>ATTRACTION NEWTON</td>\n",
       "      <td>A Astounding Panorama of a Composer And a Fris...</td>\n",
       "      <td>New</td>\n",
       "      <td>English</td>\n",
       "      <td>CHRISTOPHER WEST</td>\n",
       "    </tr>\n",
       "    <tr>\n",
       "      <th>259</th>\n",
       "      <td>AUTUMN CROW</td>\n",
       "      <td>A Beautiful Tale of a Dentist And a Mad Cow wh...</td>\n",
       "      <td>Games</td>\n",
       "      <td>English</td>\n",
       "      <td>DUSTIN TAUTOU</td>\n",
       "    </tr>\n",
       "    <tr>\n",
       "      <th>260</th>\n",
       "      <td>AUTUMN CROW</td>\n",
       "      <td>A Beautiful Tale of a Dentist And a Mad Cow wh...</td>\n",
       "      <td>Games</td>\n",
       "      <td>English</td>\n",
       "      <td>ANGELA HUDSON</td>\n",
       "    </tr>\n",
       "    <tr>\n",
       "      <th>261</th>\n",
       "      <td>AUTUMN CROW</td>\n",
       "      <td>A Beautiful Tale of a Dentist And a Mad Cow wh...</td>\n",
       "      <td>Games</td>\n",
       "      <td>English</td>\n",
       "      <td>JAMES PITT</td>\n",
       "    </tr>\n",
       "  </tbody>\n",
       "</table>\n",
       "<p>262 rows × 5 columns</p>\n",
       "</div>"
      ],
      "text/plain": [
       "                 title                                        description  \\\n",
       "0     ACADEMY DINOSAUR  A Epic Drama of a Feminist And a Mad Scientist...   \n",
       "1     ACADEMY DINOSAUR  A Epic Drama of a Feminist And a Mad Scientist...   \n",
       "2     ACADEMY DINOSAUR  A Epic Drama of a Feminist And a Mad Scientist...   \n",
       "3     ACADEMY DINOSAUR  A Epic Drama of a Feminist And a Mad Scientist...   \n",
       "4     ACADEMY DINOSAUR  A Epic Drama of a Feminist And a Mad Scientist...   \n",
       "..                 ...                                                ...   \n",
       "257  ATTRACTION NEWTON  A Astounding Panorama of a Composer And a Fris...   \n",
       "258  ATTRACTION NEWTON  A Astounding Panorama of a Composer And a Fris...   \n",
       "259        AUTUMN CROW  A Beautiful Tale of a Dentist And a Mad Cow wh...   \n",
       "260        AUTUMN CROW  A Beautiful Tale of a Dentist And a Mad Cow wh...   \n",
       "261        AUTUMN CROW  A Beautiful Tale of a Dentist And a Mad Cow wh...   \n",
       "\n",
       "        category language        actor_name  \n",
       "0    Documentary  English  PENELOPE GUINESS  \n",
       "1    Documentary  English   CHRISTIAN GABLE  \n",
       "2    Documentary  English     LUCILLE TRACY  \n",
       "3    Documentary  English       SANDRA PECK  \n",
       "4    Documentary  English       JOHNNY CAGE  \n",
       "..           ...      ...               ...  \n",
       "257          New  English         GARY PENN  \n",
       "258          New  English  CHRISTOPHER WEST  \n",
       "259        Games  English     DUSTIN TAUTOU  \n",
       "260        Games  English     ANGELA HUDSON  \n",
       "261        Games  English        JAMES PITT  \n",
       "\n",
       "[262 rows x 5 columns]"
      ]
     },
     "execution_count": 18,
     "metadata": {},
     "output_type": "execute_result"
    }
   ],
   "source": [
    "df2 = pd.read_csv('sakila_example.csv')\n",
    "df2"
   ]
  },
  {
   "cell_type": "code",
   "execution_count": 19,
   "id": "4c58e7b6-0d9a-4996-9e58-71ece536f160",
   "metadata": {},
   "outputs": [
    {
     "data": {
      "text/html": [
       "<div>\n",
       "<style scoped>\n",
       "    .dataframe tbody tr th:only-of-type {\n",
       "        vertical-align: middle;\n",
       "    }\n",
       "\n",
       "    .dataframe tbody tr th {\n",
       "        vertical-align: top;\n",
       "    }\n",
       "\n",
       "    .dataframe thead th {\n",
       "        text-align: right;\n",
       "    }\n",
       "</style>\n",
       "<table border=\"1\" class=\"dataframe\">\n",
       "  <thead>\n",
       "    <tr style=\"text-align: right;\">\n",
       "      <th></th>\n",
       "      <th>title</th>\n",
       "      <th>description</th>\n",
       "      <th>category</th>\n",
       "      <th>language</th>\n",
       "      <th>actor_name</th>\n",
       "    </tr>\n",
       "  </thead>\n",
       "  <tbody>\n",
       "    <tr>\n",
       "      <th>0</th>\n",
       "      <td>ACADEMY DINOSAUR</td>\n",
       "      <td>A Epic Drama of a Feminist And a Mad Scientist...</td>\n",
       "      <td>Documentary</td>\n",
       "      <td>English</td>\n",
       "      <td>PENELOPE GUINESS</td>\n",
       "    </tr>\n",
       "    <tr>\n",
       "      <th>1</th>\n",
       "      <td>ACADEMY DINOSAUR</td>\n",
       "      <td>A Epic Drama of a Feminist And a Mad Scientist...</td>\n",
       "      <td>Documentary</td>\n",
       "      <td>English</td>\n",
       "      <td>CHRISTIAN GABLE</td>\n",
       "    </tr>\n",
       "    <tr>\n",
       "      <th>2</th>\n",
       "      <td>ACADEMY DINOSAUR</td>\n",
       "      <td>A Epic Drama of a Feminist And a Mad Scientist...</td>\n",
       "      <td>Documentary</td>\n",
       "      <td>English</td>\n",
       "      <td>LUCILLE TRACY</td>\n",
       "    </tr>\n",
       "    <tr>\n",
       "      <th>3</th>\n",
       "      <td>ACADEMY DINOSAUR</td>\n",
       "      <td>A Epic Drama of a Feminist And a Mad Scientist...</td>\n",
       "      <td>Documentary</td>\n",
       "      <td>English</td>\n",
       "      <td>SANDRA PECK</td>\n",
       "    </tr>\n",
       "    <tr>\n",
       "      <th>4</th>\n",
       "      <td>ACADEMY DINOSAUR</td>\n",
       "      <td>A Epic Drama of a Feminist And a Mad Scientist...</td>\n",
       "      <td>Documentary</td>\n",
       "      <td>English</td>\n",
       "      <td>JOHNNY CAGE</td>\n",
       "    </tr>\n",
       "  </tbody>\n",
       "</table>\n",
       "</div>"
      ],
      "text/plain": [
       "              title                                        description  \\\n",
       "0  ACADEMY DINOSAUR  A Epic Drama of a Feminist And a Mad Scientist...   \n",
       "1  ACADEMY DINOSAUR  A Epic Drama of a Feminist And a Mad Scientist...   \n",
       "2  ACADEMY DINOSAUR  A Epic Drama of a Feminist And a Mad Scientist...   \n",
       "3  ACADEMY DINOSAUR  A Epic Drama of a Feminist And a Mad Scientist...   \n",
       "4  ACADEMY DINOSAUR  A Epic Drama of a Feminist And a Mad Scientist...   \n",
       "\n",
       "      category language        actor_name  \n",
       "0  Documentary  English  PENELOPE GUINESS  \n",
       "1  Documentary  English   CHRISTIAN GABLE  \n",
       "2  Documentary  English     LUCILLE TRACY  \n",
       "3  Documentary  English       SANDRA PECK  \n",
       "4  Documentary  English       JOHNNY CAGE  "
      ]
     },
     "execution_count": 19,
     "metadata": {},
     "output_type": "execute_result"
    }
   ],
   "source": [
    "df2.head(5)"
   ]
  },
  {
   "cell_type": "code",
   "execution_count": 20,
   "id": "16b5015b-75b1-4ee5-8307-070c2077b3b0",
   "metadata": {},
   "outputs": [
    {
     "data": {
      "text/html": [
       "<div>\n",
       "<style scoped>\n",
       "    .dataframe tbody tr th:only-of-type {\n",
       "        vertical-align: middle;\n",
       "    }\n",
       "\n",
       "    .dataframe tbody tr th {\n",
       "        vertical-align: top;\n",
       "    }\n",
       "\n",
       "    .dataframe thead th {\n",
       "        text-align: right;\n",
       "    }\n",
       "</style>\n",
       "<table border=\"1\" class=\"dataframe\">\n",
       "  <thead>\n",
       "    <tr style=\"text-align: right;\">\n",
       "      <th></th>\n",
       "      <th>title</th>\n",
       "      <th>description</th>\n",
       "      <th>category</th>\n",
       "      <th>language</th>\n",
       "      <th>actor_name</th>\n",
       "    </tr>\n",
       "  </thead>\n",
       "  <tbody>\n",
       "    <tr>\n",
       "      <th>252</th>\n",
       "      <td>ATTACKS HATE</td>\n",
       "      <td>A Fast-Paced Panorama of a Technical Writer An...</td>\n",
       "      <td>Sci-Fi</td>\n",
       "      <td>English</td>\n",
       "      <td>MILLA KEITEL</td>\n",
       "    </tr>\n",
       "    <tr>\n",
       "      <th>253</th>\n",
       "      <td>ATTACKS HATE</td>\n",
       "      <td>A Fast-Paced Panorama of a Technical Writer An...</td>\n",
       "      <td>Sci-Fi</td>\n",
       "      <td>English</td>\n",
       "      <td>GROUCHO DUNST</td>\n",
       "    </tr>\n",
       "    <tr>\n",
       "      <th>254</th>\n",
       "      <td>ATTACKS HATE</td>\n",
       "      <td>A Fast-Paced Panorama of a Technical Writer An...</td>\n",
       "      <td>Sci-Fi</td>\n",
       "      <td>English</td>\n",
       "      <td>BURT TEMPLE</td>\n",
       "    </tr>\n",
       "    <tr>\n",
       "      <th>255</th>\n",
       "      <td>ATTRACTION NEWTON</td>\n",
       "      <td>A Astounding Panorama of a Composer And a Fris...</td>\n",
       "      <td>New</td>\n",
       "      <td>English</td>\n",
       "      <td>UMA WOOD</td>\n",
       "    </tr>\n",
       "    <tr>\n",
       "      <th>256</th>\n",
       "      <td>ATTRACTION NEWTON</td>\n",
       "      <td>A Astounding Panorama of a Composer And a Fris...</td>\n",
       "      <td>New</td>\n",
       "      <td>English</td>\n",
       "      <td>RIP WINSLET</td>\n",
       "    </tr>\n",
       "    <tr>\n",
       "      <th>257</th>\n",
       "      <td>ATTRACTION NEWTON</td>\n",
       "      <td>A Astounding Panorama of a Composer And a Fris...</td>\n",
       "      <td>New</td>\n",
       "      <td>English</td>\n",
       "      <td>GARY PENN</td>\n",
       "    </tr>\n",
       "    <tr>\n",
       "      <th>258</th>\n",
       "      <td>ATTRACTION NEWTON</td>\n",
       "      <td>A Astounding Panorama of a Composer And a Fris...</td>\n",
       "      <td>New</td>\n",
       "      <td>English</td>\n",
       "      <td>CHRISTOPHER WEST</td>\n",
       "    </tr>\n",
       "    <tr>\n",
       "      <th>259</th>\n",
       "      <td>AUTUMN CROW</td>\n",
       "      <td>A Beautiful Tale of a Dentist And a Mad Cow wh...</td>\n",
       "      <td>Games</td>\n",
       "      <td>English</td>\n",
       "      <td>DUSTIN TAUTOU</td>\n",
       "    </tr>\n",
       "    <tr>\n",
       "      <th>260</th>\n",
       "      <td>AUTUMN CROW</td>\n",
       "      <td>A Beautiful Tale of a Dentist And a Mad Cow wh...</td>\n",
       "      <td>Games</td>\n",
       "      <td>English</td>\n",
       "      <td>ANGELA HUDSON</td>\n",
       "    </tr>\n",
       "    <tr>\n",
       "      <th>261</th>\n",
       "      <td>AUTUMN CROW</td>\n",
       "      <td>A Beautiful Tale of a Dentist And a Mad Cow wh...</td>\n",
       "      <td>Games</td>\n",
       "      <td>English</td>\n",
       "      <td>JAMES PITT</td>\n",
       "    </tr>\n",
       "  </tbody>\n",
       "</table>\n",
       "</div>"
      ],
      "text/plain": [
       "                 title                                        description  \\\n",
       "252       ATTACKS HATE  A Fast-Paced Panorama of a Technical Writer An...   \n",
       "253       ATTACKS HATE  A Fast-Paced Panorama of a Technical Writer An...   \n",
       "254       ATTACKS HATE  A Fast-Paced Panorama of a Technical Writer An...   \n",
       "255  ATTRACTION NEWTON  A Astounding Panorama of a Composer And a Fris...   \n",
       "256  ATTRACTION NEWTON  A Astounding Panorama of a Composer And a Fris...   \n",
       "257  ATTRACTION NEWTON  A Astounding Panorama of a Composer And a Fris...   \n",
       "258  ATTRACTION NEWTON  A Astounding Panorama of a Composer And a Fris...   \n",
       "259        AUTUMN CROW  A Beautiful Tale of a Dentist And a Mad Cow wh...   \n",
       "260        AUTUMN CROW  A Beautiful Tale of a Dentist And a Mad Cow wh...   \n",
       "261        AUTUMN CROW  A Beautiful Tale of a Dentist And a Mad Cow wh...   \n",
       "\n",
       "    category language        actor_name  \n",
       "252   Sci-Fi  English      MILLA KEITEL  \n",
       "253   Sci-Fi  English     GROUCHO DUNST  \n",
       "254   Sci-Fi  English       BURT TEMPLE  \n",
       "255      New  English          UMA WOOD  \n",
       "256      New  English       RIP WINSLET  \n",
       "257      New  English         GARY PENN  \n",
       "258      New  English  CHRISTOPHER WEST  \n",
       "259    Games  English     DUSTIN TAUTOU  \n",
       "260    Games  English     ANGELA HUDSON  \n",
       "261    Games  English        JAMES PITT  "
      ]
     },
     "execution_count": 20,
     "metadata": {},
     "output_type": "execute_result"
    }
   ],
   "source": [
    "df2.tail(10)"
   ]
  },
  {
   "cell_type": "code",
   "execution_count": 21,
   "id": "1464cc7e-1bd5-4514-8bb0-74aaf5d7051b",
   "metadata": {},
   "outputs": [
    {
     "name": "stdout",
     "output_type": "stream",
     "text": [
      "<class 'pandas.core.frame.DataFrame'>\n",
      "RangeIndex: 262 entries, 0 to 261\n",
      "Data columns (total 5 columns):\n",
      " #   Column       Non-Null Count  Dtype \n",
      "---  ------       --------------  ----- \n",
      " 0   title        262 non-null    object\n",
      " 1   description  262 non-null    object\n",
      " 2   category     262 non-null    object\n",
      " 3   language     262 non-null    object\n",
      " 4   actor_name   262 non-null    object\n",
      "dtypes: object(5)\n",
      "memory usage: 10.4+ KB\n"
     ]
    }
   ],
   "source": [
    "df2.info()"
   ]
  },
  {
   "cell_type": "markdown",
   "id": "0045efe3-74f6-45a2-a96e-c2567baffc62",
   "metadata": {},
   "source": [
    "*Looking at the info results I can determine that there are 262 records with 5 columns. Each column has 262 records of non null values, which could mean there are duplication of rows. The data types are as objects for all 5 columns and that the memory ussage is 10.4 or more kilobytes.*"
   ]
  },
  {
   "cell_type": "code",
   "execution_count": 22,
   "id": "6984e109-cbe1-4845-b681-a4e650f19a11",
   "metadata": {},
   "outputs": [
    {
     "data": {
      "text/html": [
       "<div>\n",
       "<style scoped>\n",
       "    .dataframe tbody tr th:only-of-type {\n",
       "        vertical-align: middle;\n",
       "    }\n",
       "\n",
       "    .dataframe tbody tr th {\n",
       "        vertical-align: top;\n",
       "    }\n",
       "\n",
       "    .dataframe thead th {\n",
       "        text-align: right;\n",
       "    }\n",
       "</style>\n",
       "<table border=\"1\" class=\"dataframe\">\n",
       "  <thead>\n",
       "    <tr style=\"text-align: right;\">\n",
       "      <th></th>\n",
       "      <th>title</th>\n",
       "      <th>description</th>\n",
       "      <th>category</th>\n",
       "      <th>language</th>\n",
       "      <th>actor_name</th>\n",
       "    </tr>\n",
       "  </thead>\n",
       "  <tbody>\n",
       "    <tr>\n",
       "      <th>count</th>\n",
       "      <td>262</td>\n",
       "      <td>262</td>\n",
       "      <td>262</td>\n",
       "      <td>262</td>\n",
       "      <td>262</td>\n",
       "    </tr>\n",
       "    <tr>\n",
       "      <th>unique</th>\n",
       "      <td>46</td>\n",
       "      <td>46</td>\n",
       "      <td>15</td>\n",
       "      <td>1</td>\n",
       "      <td>145</td>\n",
       "    </tr>\n",
       "    <tr>\n",
       "      <th>top</th>\n",
       "      <td>ARABIA DOGMA</td>\n",
       "      <td>A Touching Epistle of a Madman And a Mad Cow w...</td>\n",
       "      <td>Horror</td>\n",
       "      <td>English</td>\n",
       "      <td>OPRAH KILMER</td>\n",
       "    </tr>\n",
       "    <tr>\n",
       "      <th>freq</th>\n",
       "      <td>12</td>\n",
       "      <td>12</td>\n",
       "      <td>55</td>\n",
       "      <td>262</td>\n",
       "      <td>8</td>\n",
       "    </tr>\n",
       "  </tbody>\n",
       "</table>\n",
       "</div>"
      ],
      "text/plain": [
       "               title                                        description  \\\n",
       "count            262                                                262   \n",
       "unique            46                                                 46   \n",
       "top     ARABIA DOGMA  A Touching Epistle of a Madman And a Mad Cow w...   \n",
       "freq              12                                                 12   \n",
       "\n",
       "       category language    actor_name  \n",
       "count       262      262           262  \n",
       "unique       15        1           145  \n",
       "top      Horror  English  OPRAH KILMER  \n",
       "freq         55      262             8  "
      ]
     },
     "execution_count": 22,
     "metadata": {},
     "output_type": "execute_result"
    }
   ],
   "source": [
    "df2.describe()"
   ]
  },
  {
   "cell_type": "markdown",
   "id": "eb0e8392-dd8d-4496-84ab-8072da970e4a",
   "metadata": {},
   "source": [
    "*Looking at the describe results I can see that I'll be working with 262 records(counts) for all 5 columns, which means I would have to clean up some duplicated data but I do not think this summarization is not so useful. However, there are 46 titles and descriptions I can work with that fall into 15 caterogry and have only one language. I see that there are also 145 actors. It also give me aggregated information on the top title, description, category and actor. Finally, it gives me the frequency of the top items. However, I do not think this summarization will be very useful as I already have my top summarization that gives me the name of the items that have high occurences.*"
   ]
  },
  {
   "cell_type": "code",
   "execution_count": 23,
   "id": "8ec75209-9d14-4879-849e-d2813ed897ba",
   "metadata": {},
   "outputs": [
    {
     "data": {
      "text/html": [
       "<div>\n",
       "<style scoped>\n",
       "    .dataframe tbody tr th:only-of-type {\n",
       "        vertical-align: middle;\n",
       "    }\n",
       "\n",
       "    .dataframe tbody tr th {\n",
       "        vertical-align: top;\n",
       "    }\n",
       "\n",
       "    .dataframe thead th {\n",
       "        text-align: right;\n",
       "    }\n",
       "</style>\n",
       "<table border=\"1\" class=\"dataframe\">\n",
       "  <thead>\n",
       "    <tr style=\"text-align: right;\">\n",
       "      <th></th>\n",
       "      <th>OrderID</th>\n",
       "      <th>ProductName</th>\n",
       "      <th>UnitPrice</th>\n",
       "      <th>Quantity</th>\n",
       "    </tr>\n",
       "  </thead>\n",
       "  <tbody>\n",
       "    <tr>\n",
       "      <th>0</th>\n",
       "      <td>10248</td>\n",
       "      <td>Queso Cabrales</td>\n",
       "      <td>14.0</td>\n",
       "      <td>12</td>\n",
       "    </tr>\n",
       "    <tr>\n",
       "      <th>1</th>\n",
       "      <td>10248</td>\n",
       "      <td>Singaporean Hokkien Fried Mee</td>\n",
       "      <td>9.8</td>\n",
       "      <td>10</td>\n",
       "    </tr>\n",
       "    <tr>\n",
       "      <th>2</th>\n",
       "      <td>10248</td>\n",
       "      <td>Mozzarella di Giovanni</td>\n",
       "      <td>34.8</td>\n",
       "      <td>5</td>\n",
       "    </tr>\n",
       "    <tr>\n",
       "      <th>3</th>\n",
       "      <td>10249</td>\n",
       "      <td>Manjimup Dried Apples</td>\n",
       "      <td>42.4</td>\n",
       "      <td>40</td>\n",
       "    </tr>\n",
       "    <tr>\n",
       "      <th>4</th>\n",
       "      <td>10249</td>\n",
       "      <td>Tofu</td>\n",
       "      <td>18.6</td>\n",
       "      <td>9</td>\n",
       "    </tr>\n",
       "    <tr>\n",
       "      <th>...</th>\n",
       "      <td>...</td>\n",
       "      <td>...</td>\n",
       "      <td>...</td>\n",
       "      <td>...</td>\n",
       "    </tr>\n",
       "    <tr>\n",
       "      <th>495</th>\n",
       "      <td>10435</td>\n",
       "      <td>Mozzarella di Giovanni</td>\n",
       "      <td>27.8</td>\n",
       "      <td>10</td>\n",
       "    </tr>\n",
       "    <tr>\n",
       "      <th>496</th>\n",
       "      <td>10436</td>\n",
       "      <td>Gnocchi di nonna Alice</td>\n",
       "      <td>30.4</td>\n",
       "      <td>40</td>\n",
       "    </tr>\n",
       "    <tr>\n",
       "      <th>497</th>\n",
       "      <td>10436</td>\n",
       "      <td>Wimmers gute Semmelkndel</td>\n",
       "      <td>26.6</td>\n",
       "      <td>30</td>\n",
       "    </tr>\n",
       "    <tr>\n",
       "      <th>498</th>\n",
       "      <td>10436</td>\n",
       "      <td>Rhnbru Klosterbier</td>\n",
       "      <td>6.2</td>\n",
       "      <td>24</td>\n",
       "    </tr>\n",
       "    <tr>\n",
       "      <th>499</th>\n",
       "      <td>10436</td>\n",
       "      <td>Spegesild</td>\n",
       "      <td>9.6</td>\n",
       "      <td>5</td>\n",
       "    </tr>\n",
       "  </tbody>\n",
       "</table>\n",
       "<p>500 rows × 4 columns</p>\n",
       "</div>"
      ],
      "text/plain": [
       "     OrderID                    ProductName  UnitPrice  Quantity\n",
       "0      10248                 Queso Cabrales       14.0        12\n",
       "1      10248  Singaporean Hokkien Fried Mee        9.8        10\n",
       "2      10248         Mozzarella di Giovanni       34.8         5\n",
       "3      10249          Manjimup Dried Apples       42.4        40\n",
       "4      10249                           Tofu       18.6         9\n",
       "..       ...                            ...        ...       ...\n",
       "495    10435         Mozzarella di Giovanni       27.8        10\n",
       "496    10436         Gnocchi di nonna Alice       30.4        40\n",
       "497    10436       Wimmers gute Semmelkndel       26.6        30\n",
       "498    10436             Rhnbru Klosterbier        6.2        24\n",
       "499    10436                      Spegesild        9.6         5\n",
       "\n",
       "[500 rows x 4 columns]"
      ]
     },
     "execution_count": 23,
     "metadata": {},
     "output_type": "execute_result"
    }
   ],
   "source": [
    "df3 = pd.read_csv('northwind_example.csv')\n",
    "df3"
   ]
  },
  {
   "cell_type": "code",
   "execution_count": 24,
   "id": "9b57f553-59e5-4380-8b11-8ad9f4493c5b",
   "metadata": {},
   "outputs": [
    {
     "data": {
      "text/html": [
       "<div>\n",
       "<style scoped>\n",
       "    .dataframe tbody tr th:only-of-type {\n",
       "        vertical-align: middle;\n",
       "    }\n",
       "\n",
       "    .dataframe tbody tr th {\n",
       "        vertical-align: top;\n",
       "    }\n",
       "\n",
       "    .dataframe thead th {\n",
       "        text-align: right;\n",
       "    }\n",
       "</style>\n",
       "<table border=\"1\" class=\"dataframe\">\n",
       "  <thead>\n",
       "    <tr style=\"text-align: right;\">\n",
       "      <th></th>\n",
       "      <th>OrderID</th>\n",
       "      <th>UnitPrice</th>\n",
       "      <th>Quantity</th>\n",
       "    </tr>\n",
       "  </thead>\n",
       "  <tbody>\n",
       "    <tr>\n",
       "      <th>count</th>\n",
       "      <td>500.000000</td>\n",
       "      <td>500.000000</td>\n",
       "      <td>500.000000</td>\n",
       "    </tr>\n",
       "    <tr>\n",
       "      <th>mean</th>\n",
       "      <td>10341.364000</td>\n",
       "      <td>23.371400</td>\n",
       "      <td>24.330000</td>\n",
       "    </tr>\n",
       "    <tr>\n",
       "      <th>std</th>\n",
       "      <td>54.442663</td>\n",
       "      <td>27.334436</td>\n",
       "      <td>18.069702</td>\n",
       "    </tr>\n",
       "    <tr>\n",
       "      <th>min</th>\n",
       "      <td>10248.000000</td>\n",
       "      <td>2.000000</td>\n",
       "      <td>1.000000</td>\n",
       "    </tr>\n",
       "    <tr>\n",
       "      <th>25%</th>\n",
       "      <td>10294.000000</td>\n",
       "      <td>10.400000</td>\n",
       "      <td>10.000000</td>\n",
       "    </tr>\n",
       "    <tr>\n",
       "      <th>50%</th>\n",
       "      <td>10341.000000</td>\n",
       "      <td>15.800000</td>\n",
       "      <td>20.000000</td>\n",
       "    </tr>\n",
       "    <tr>\n",
       "      <th>75%</th>\n",
       "      <td>10389.000000</td>\n",
       "      <td>27.800000</td>\n",
       "      <td>32.000000</td>\n",
       "    </tr>\n",
       "    <tr>\n",
       "      <th>max</th>\n",
       "      <td>10436.000000</td>\n",
       "      <td>210.800000</td>\n",
       "      <td>120.000000</td>\n",
       "    </tr>\n",
       "  </tbody>\n",
       "</table>\n",
       "</div>"
      ],
      "text/plain": [
       "            OrderID   UnitPrice    Quantity\n",
       "count    500.000000  500.000000  500.000000\n",
       "mean   10341.364000   23.371400   24.330000\n",
       "std       54.442663   27.334436   18.069702\n",
       "min    10248.000000    2.000000    1.000000\n",
       "25%    10294.000000   10.400000   10.000000\n",
       "50%    10341.000000   15.800000   20.000000\n",
       "75%    10389.000000   27.800000   32.000000\n",
       "max    10436.000000  210.800000  120.000000"
      ]
     },
     "execution_count": 24,
     "metadata": {},
     "output_type": "execute_result"
    }
   ],
   "source": [
    "df3.describe()"
   ]
  },
  {
   "cell_type": "markdown",
   "id": "09dd0df7-0df9-453e-9e98-c7163d6f846d",
   "metadata": {},
   "source": [
    "*Looking at the describe results I see that it only returned three columns with the count of each column again shows that there is some data clean up to do as there is potentially duplicate records. Since I am dealing with unit price and quantity I am getting the mean, the standard deviation, the min, the max, and percentiles (where my data falls before the 25th percentile, where my data falls before the 50 th percentile, and where my data falls under the 75th percentile). I don't think I would have much use on the OrderID column for any of the rows that is returning mean, standard deviation, min, max, and percentiles. The summarizations here are different than for the previous example because it is pulling the data to be more statistical.*"
   ]
  },
  {
   "cell_type": "markdown",
   "id": "a0eac3a0-05b5-4bb9-87e8-46d067acafea",
   "metadata": {},
   "source": [
    "# Coding a DataFrame"
   ]
  },
  {
   "cell_type": "code",
   "execution_count": 27,
   "id": "93b5135b-c6c7-49bf-9526-990dfb5e300b",
   "metadata": {},
   "outputs": [
    {
     "data": {
      "text/plain": [
       "{'ID': [1, 2, 3, 4, 5, 6, 7, 8],\n",
       " 'Name': ['Alicia',\n",
       "  'Bob',\n",
       "  'Charlie',\n",
       "  'Dominic',\n",
       "  'Eve',\n",
       "  'Frank',\n",
       "  'Grace',\n",
       "  'Heidi'],\n",
       " 'Age': [25, nan, 22, 19, 31, 35, nan, 18],\n",
       " 'City': ['NY',\n",
       "  'LA',\n",
       "  'Chicago',\n",
       "  'Houston',\n",
       "  'Phoenix',\n",
       "  'Boston',\n",
       "  'Austin',\n",
       "  'San Diego'],\n",
       " 'Score': [85, 92, -1, 65, 78, nan, 55, 90]}"
      ]
     },
     "execution_count": 27,
     "metadata": {},
     "output_type": "execute_result"
    }
   ],
   "source": [
    "test_data = {'ID':[1,2,3,4,5,6,7,8], \n",
    "             'Name':['Alicia','Bob','Charlie','Dominic','Eve','Frank','Grace','Heidi'],\n",
    "             'Age':[25,np.nan,22,19,31,35,np.nan,18],\n",
    "             'City':['NY','LA','Chicago','Houston','Phoenix','Boston','Austin','San Diego'],\n",
    "             'Score':[85,92,-1,65,78,np.nan,55,90]}\n",
    "test_data             "
   ]
  },
  {
   "cell_type": "code",
   "execution_count": 31,
   "id": "7634561f-461e-4578-b93e-6e33c30573c4",
   "metadata": {},
   "outputs": [
    {
     "data": {
      "text/html": [
       "<div>\n",
       "<style scoped>\n",
       "    .dataframe tbody tr th:only-of-type {\n",
       "        vertical-align: middle;\n",
       "    }\n",
       "\n",
       "    .dataframe tbody tr th {\n",
       "        vertical-align: top;\n",
       "    }\n",
       "\n",
       "    .dataframe thead th {\n",
       "        text-align: right;\n",
       "    }\n",
       "</style>\n",
       "<table border=\"1\" class=\"dataframe\">\n",
       "  <thead>\n",
       "    <tr style=\"text-align: right;\">\n",
       "      <th></th>\n",
       "      <th>ID</th>\n",
       "      <th>Name</th>\n",
       "      <th>Age</th>\n",
       "      <th>City</th>\n",
       "      <th>Score</th>\n",
       "    </tr>\n",
       "  </thead>\n",
       "  <tbody>\n",
       "    <tr>\n",
       "      <th>0</th>\n",
       "      <td>1</td>\n",
       "      <td>Alicia</td>\n",
       "      <td>25.0</td>\n",
       "      <td>NY</td>\n",
       "      <td>85.0</td>\n",
       "    </tr>\n",
       "    <tr>\n",
       "      <th>1</th>\n",
       "      <td>2</td>\n",
       "      <td>Bob</td>\n",
       "      <td>NaN</td>\n",
       "      <td>LA</td>\n",
       "      <td>92.0</td>\n",
       "    </tr>\n",
       "    <tr>\n",
       "      <th>2</th>\n",
       "      <td>3</td>\n",
       "      <td>Charlie</td>\n",
       "      <td>22.0</td>\n",
       "      <td>Chicago</td>\n",
       "      <td>-1.0</td>\n",
       "    </tr>\n",
       "    <tr>\n",
       "      <th>3</th>\n",
       "      <td>4</td>\n",
       "      <td>Dominic</td>\n",
       "      <td>19.0</td>\n",
       "      <td>Houston</td>\n",
       "      <td>65.0</td>\n",
       "    </tr>\n",
       "    <tr>\n",
       "      <th>4</th>\n",
       "      <td>5</td>\n",
       "      <td>Eve</td>\n",
       "      <td>31.0</td>\n",
       "      <td>Phoenix</td>\n",
       "      <td>78.0</td>\n",
       "    </tr>\n",
       "    <tr>\n",
       "      <th>5</th>\n",
       "      <td>6</td>\n",
       "      <td>Frank</td>\n",
       "      <td>35.0</td>\n",
       "      <td>Boston</td>\n",
       "      <td>NaN</td>\n",
       "    </tr>\n",
       "    <tr>\n",
       "      <th>6</th>\n",
       "      <td>7</td>\n",
       "      <td>Grace</td>\n",
       "      <td>NaN</td>\n",
       "      <td>Austin</td>\n",
       "      <td>55.0</td>\n",
       "    </tr>\n",
       "    <tr>\n",
       "      <th>7</th>\n",
       "      <td>8</td>\n",
       "      <td>Heidi</td>\n",
       "      <td>18.0</td>\n",
       "      <td>San Diego</td>\n",
       "      <td>90.0</td>\n",
       "    </tr>\n",
       "  </tbody>\n",
       "</table>\n",
       "</div>"
      ],
      "text/plain": [
       "   ID     Name   Age       City  Score\n",
       "0   1   Alicia  25.0         NY   85.0\n",
       "1   2      Bob   NaN         LA   92.0\n",
       "2   3  Charlie  22.0    Chicago   -1.0\n",
       "3   4  Dominic  19.0    Houston   65.0\n",
       "4   5      Eve  31.0    Phoenix   78.0\n",
       "5   6    Frank  35.0     Boston    NaN\n",
       "6   7    Grace   NaN     Austin   55.0\n",
       "7   8    Heidi  18.0  San Diego   90.0"
      ]
     },
     "execution_count": 31,
     "metadata": {},
     "output_type": "execute_result"
    }
   ],
   "source": [
    "df4 = pd.DataFrame(test_data)\n",
    "df4"
   ]
  },
  {
   "cell_type": "code",
   "execution_count": 34,
   "id": "c096e7f6-b7b8-49a7-b2dd-1577552a3fe1",
   "metadata": {},
   "outputs": [],
   "source": [
    "df4.to_csv('test_data.csv', index=False)"
   ]
  }
 ],
 "metadata": {
  "kernelspec": {
   "display_name": "Python 3 (ipykernel)",
   "language": "python",
   "name": "python3"
  },
  "language_info": {
   "codemirror_mode": {
    "name": "ipython",
    "version": 3
   },
   "file_extension": ".py",
   "mimetype": "text/x-python",
   "name": "python",
   "nbconvert_exporter": "python",
   "pygments_lexer": "ipython3",
   "version": "3.12.3"
  }
 },
 "nbformat": 4,
 "nbformat_minor": 5
}
