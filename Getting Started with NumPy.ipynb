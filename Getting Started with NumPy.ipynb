{
 "cells": [
  {
   "cell_type": "code",
   "execution_count": 1,
   "id": "89ab7c89-4137-482b-b567-b417ffc0e23e",
   "metadata": {},
   "outputs": [],
   "source": [
    "import numpy as np"
   ]
  },
  {
   "cell_type": "markdown",
   "id": "93d264ca-d3ef-471c-a155-c73f1d3a7fea",
   "metadata": {},
   "source": [
    "# Array Basics"
   ]
  },
  {
   "cell_type": "code",
   "execution_count": 37,
   "id": "d80a9eab-518e-4353-b740-55c3ac293a01",
   "metadata": {},
   "outputs": [
    {
     "data": {
      "text/plain": [
       "['apple', 'banana', 'cherry', 'date']"
      ]
     },
     "execution_count": 37,
     "metadata": {},
     "output_type": "execute_result"
    }
   ],
   "source": [
    "fruits = ['apple', 'banana', 'cherry', 'date']\n",
    "fruits"
   ]
  },
  {
   "cell_type": "code",
   "execution_count": 50,
   "id": "6c962121-63de-425c-afea-3dd8921e3365",
   "metadata": {},
   "outputs": [
    {
     "data": {
      "text/plain": [
       "array(['apple', 'banana', 'cherry', 'date'], dtype='<U6')"
      ]
     },
     "execution_count": 50,
     "metadata": {},
     "output_type": "execute_result"
    }
   ],
   "source": [
    "arr_1 = np.array(fruits)\n",
    "arr_1"
   ]
  },
  {
   "cell_type": "code",
   "execution_count": 51,
   "id": "7669cb3e-7c98-41be-b9ba-42ea33a1d596",
   "metadata": {},
   "outputs": [
    {
     "name": "stdout",
     "output_type": "stream",
     "text": [
      "['apple' 'banana' 'cherry' 'date']\n"
     ]
    }
   ],
   "source": [
    "print(arr_1)"
   ]
  },
  {
   "cell_type": "code",
   "execution_count": 52,
   "id": "76a0e126-86a5-4ea7-b54c-e02c27da3e0a",
   "metadata": {},
   "outputs": [
    {
     "name": "stdout",
     "output_type": "stream",
     "text": [
      "<U6\n"
     ]
    }
   ],
   "source": [
    "print(arr_1.dtype)"
   ]
  },
  {
   "cell_type": "code",
   "execution_count": 53,
   "id": "16e1270e-49ee-48cf-a5e6-d6c207d1bee7",
   "metadata": {},
   "outputs": [],
   "source": [
    "# dtype return a capital U character for unicode string and the number 6 for unicode characters stored."
   ]
  },
  {
   "cell_type": "code",
   "execution_count": 54,
   "id": "f6f4171b-ce9c-4e40-adff-6a6e07868252",
   "metadata": {},
   "outputs": [
    {
     "data": {
      "text/plain": [
       "array([[10, 11, 12],\n",
       "       [13, 14, 15]])"
      ]
     },
     "execution_count": 54,
     "metadata": {},
     "output_type": "execute_result"
    }
   ],
   "source": [
    "arr_2 = np.array([[10, 11, 12],[13, 14, 15]])\n",
    "arr_2"
   ]
  },
  {
   "cell_type": "code",
   "execution_count": 55,
   "id": "1848c1f1-9b58-4933-874a-2a53bc4781a3",
   "metadata": {},
   "outputs": [
    {
     "name": "stdout",
     "output_type": "stream",
     "text": [
      "[[10 11 12]\n",
      " [13 14 15]]\n"
     ]
    }
   ],
   "source": [
    "print(arr_2)"
   ]
  },
  {
   "cell_type": "code",
   "execution_count": 56,
   "id": "4fd992e4-7dfd-47cc-97f9-b6f58030ce7d",
   "metadata": {},
   "outputs": [
    {
     "name": "stdout",
     "output_type": "stream",
     "text": [
      "[[10 13]\n",
      " [11 14]\n",
      " [12 15]]\n"
     ]
    }
   ],
   "source": [
    "print(arr_2.T)"
   ]
  },
  {
   "cell_type": "code",
   "execution_count": 57,
   "id": "a177a683-3806-4396-ac3c-22b6a93faf7c",
   "metadata": {},
   "outputs": [],
   "source": [
    "# this alters the values based on the swap of the axis. I started with 2 rows by 3 columns and now I have 3 rows with 2 columns."
   ]
  },
  {
   "cell_type": "code",
   "execution_count": 58,
   "id": "69de16ed-8246-40ed-af80-702b250eab3f",
   "metadata": {},
   "outputs": [
    {
     "data": {
      "text/plain": [
       "array([[1, 3, 5],\n",
       "       [2, 4, 6]])"
      ]
     },
     "execution_count": 58,
     "metadata": {},
     "output_type": "execute_result"
    }
   ],
   "source": [
    "arr_3 = np.array([[1,3,5],[2,4,6]])\n",
    "arr_3"
   ]
  },
  {
   "cell_type": "code",
   "execution_count": 59,
   "id": "b0c2fbae-cbfc-44ac-afe8-f1cef119a91a",
   "metadata": {},
   "outputs": [
    {
     "name": "stdout",
     "output_type": "stream",
     "text": [
      "[[1 3 5]\n",
      " [2 4 6]]\n"
     ]
    }
   ],
   "source": [
    "print(arr_3)"
   ]
  },
  {
   "cell_type": "code",
   "execution_count": 63,
   "id": "f37f8c6e-c3b3-4aeb-aeba-e17c98fc46a6",
   "metadata": {},
   "outputs": [],
   "source": [
    "arr_4 = arr_3[0,2], arr_3[1,1]"
   ]
  },
  {
   "cell_type": "code",
   "execution_count": 64,
   "id": "b3c547ce-80ac-40a5-abfc-dc9575f6cce8",
   "metadata": {},
   "outputs": [
    {
     "name": "stdout",
     "output_type": "stream",
     "text": [
      "(np.int64(5), np.int64(4))\n"
     ]
    }
   ],
   "source": [
    "print(arr_4)"
   ]
  },
  {
   "cell_type": "code",
   "execution_count": 65,
   "id": "d2d971ca-9ee5-421e-a703-ea7874b4902e",
   "metadata": {},
   "outputs": [
    {
     "data": {
      "text/plain": [
       "array([[[1, 1],\n",
       "        [1, 1],\n",
       "        [1, 1],\n",
       "        [1, 1]]])"
      ]
     },
     "execution_count": 65,
     "metadata": {},
     "output_type": "execute_result"
    }
   ],
   "source": [
    "arr_5 = np.array([[[1,1], [1,1], [1,1], [1,1]]])\n",
    "arr_5"
   ]
  },
  {
   "cell_type": "code",
   "execution_count": 66,
   "id": "ae1b26da-6846-4370-9fca-37f86c62a4df",
   "metadata": {},
   "outputs": [
    {
     "name": "stdout",
     "output_type": "stream",
     "text": [
      "[[[1 1]\n",
      "  [1 1]\n",
      "  [1 1]\n",
      "  [1 1]]]\n"
     ]
    }
   ],
   "source": [
    "print(arr_5)"
   ]
  },
  {
   "cell_type": "code",
   "execution_count": null,
   "id": "cdaa7d7a-1160-440b-9650-bd79609cfc6e",
   "metadata": {},
   "outputs": [],
   "source": []
  }
 ],
 "metadata": {
  "kernelspec": {
   "display_name": "Python 3 (ipykernel)",
   "language": "python",
   "name": "python3"
  },
  "language_info": {
   "codemirror_mode": {
    "name": "ipython",
    "version": 3
   },
   "file_extension": ".py",
   "mimetype": "text/x-python",
   "name": "python",
   "nbconvert_exporter": "python",
   "pygments_lexer": "ipython3",
   "version": "3.12.3"
  }
 },
 "nbformat": 4,
 "nbformat_minor": 5
}
