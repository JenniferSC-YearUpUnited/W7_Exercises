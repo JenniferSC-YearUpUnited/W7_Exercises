{
 "cells": [
  {
   "cell_type": "code",
   "execution_count": 1,
   "id": "f5388c8c-0f8d-4b79-930f-48e1d2293510",
   "metadata": {},
   "outputs": [],
   "source": [
    "import numpy as np"
   ]
  },
  {
   "cell_type": "markdown",
   "id": "b4f9d394-747c-448f-a752-4b8a0eb9a5de",
   "metadata": {},
   "source": [
    "# Looping Through Arrays"
   ]
  },
  {
   "cell_type": "code",
   "execution_count": 45,
   "id": "e2b6bb11-bbcc-4a9b-adcd-46e33f7e7076",
   "metadata": {},
   "outputs": [
    {
     "data": {
      "text/plain": [
       "array([[11, 12, 13],\n",
       "       [14, 15, 16]])"
      ]
     },
     "execution_count": 45,
     "metadata": {},
     "output_type": "execute_result"
    }
   ],
   "source": [
    "arrA = np.array([[11, 12, 13], [14, 15, 16]])\n",
    "arrA"
   ]
  },
  {
   "cell_type": "code",
   "execution_count": 6,
   "id": "d6cefd37-c51e-47bd-bddc-780c6d0f2fe3",
   "metadata": {},
   "outputs": [
    {
     "name": "stdout",
     "output_type": "stream",
     "text": [
      "[[11 12 13]\n",
      " [14 15 16]]\n"
     ]
    }
   ],
   "source": [
    "print(arrA)"
   ]
  },
  {
   "cell_type": "code",
   "execution_count": 28,
   "id": "7fc94747-97db-4648-8379-ef38cd810960",
   "metadata": {},
   "outputs": [
    {
     "name": "stdout",
     "output_type": "stream",
     "text": [
      "[22 24 26]\n",
      "[28 30 32]\n"
     ]
    }
   ],
   "source": [
    "for x in arrA:\n",
    "    print(x * 2) "
   ]
  },
  {
   "cell_type": "code",
   "execution_count": 37,
   "id": "6839873b-b721-4ba3-b024-3bcecafa1d7f",
   "metadata": {},
   "outputs": [
    {
     "name": "stdout",
     "output_type": "stream",
     "text": [
      "22\n",
      "24\n",
      "26\n",
      "28\n",
      "30\n",
      "32\n"
     ]
    }
   ],
   "source": [
    "for x in arrA:\n",
    "    for y in x:\n",
    "        print(y * 2)"
   ]
  },
  {
   "cell_type": "markdown",
   "id": "7d0f5eed-648b-41a2-aa2d-84798e09e786",
   "metadata": {},
   "source": [
    "The difference between the results for the first loop and the second loop is that loop is running against the outer dimension and the second loop is running on the inner dimension. "
   ]
  },
  {
   "cell_type": "code",
   "execution_count": 39,
   "id": "104c7b47-2b2f-4d67-97fd-233f304b54b3",
   "metadata": {},
   "outputs": [
    {
     "name": "stdout",
     "output_type": "stream",
     "text": [
      "[22 24 26]\n",
      "[22 24 26]\n",
      "[22 24 26]\n",
      "[28 30 32]\n",
      "[28 30 32]\n",
      "[28 30 32]\n"
     ]
    }
   ],
   "source": [
    "for x in arrA:\n",
    "    for y in x:\n",
    "        loop_result = x * 2\n",
    "        print(loop_result)  "
   ]
  },
  {
   "cell_type": "code",
   "execution_count": 41,
   "id": "f5baf276-a5c7-4ec8-80de-74c2adf385f7",
   "metadata": {},
   "outputs": [],
   "source": [
    "# The result is different because its looping through each element in the outer dimension resulting in 3 rows of the same values multiplied by two."
   ]
  },
  {
   "cell_type": "markdown",
   "id": "c1a8b225-2957-467c-9143-a7af4a0f8f21",
   "metadata": {},
   "source": [
    "# Joining and Stacking Arrays"
   ]
  },
  {
   "cell_type": "code",
   "execution_count": 63,
   "id": "19f27cda-1efe-4e83-9661-c25084747ed9",
   "metadata": {},
   "outputs": [
    {
     "data": {
      "text/plain": [
       "array([[11, 12, 13],\n",
       "       [14, 15, 16],\n",
       "       [11, 12, 13],\n",
       "       [14, 15, 16]])"
      ]
     },
     "execution_count": 63,
     "metadata": {},
     "output_type": "execute_result"
    }
   ],
   "source": [
    "joined_array_1 = np.concatenate((arrA, arrA), axis=0)\n",
    "joined_array_1"
   ]
  },
  {
   "cell_type": "code",
   "execution_count": 64,
   "id": "2b6fbc76-23e8-4932-90f7-daa9f614b8e8",
   "metadata": {},
   "outputs": [
    {
     "name": "stdout",
     "output_type": "stream",
     "text": [
      "[[11 12 13]\n",
      " [14 15 16]\n",
      " [11 12 13]\n",
      " [14 15 16]]\n"
     ]
    }
   ],
   "source": [
    "print(joined_array_1)"
   ]
  },
  {
   "cell_type": "code",
   "execution_count": 65,
   "id": "c1180949-979f-4774-9845-4860564757bf",
   "metadata": {},
   "outputs": [
    {
     "data": {
      "text/plain": [
       "array([[11, 12, 13, 11, 12, 13],\n",
       "       [14, 15, 16, 14, 15, 16]])"
      ]
     },
     "execution_count": 65,
     "metadata": {},
     "output_type": "execute_result"
    }
   ],
   "source": [
    "joined_array_2 = np.concatenate((arrA, arrA), axis=1)\n",
    "joined_array_2"
   ]
  },
  {
   "cell_type": "code",
   "execution_count": 66,
   "id": "c85327c4-2a38-4c0c-adcf-1edbfd71b4c9",
   "metadata": {},
   "outputs": [
    {
     "data": {
      "text/plain": [
       "array([[[11, 12, 13],\n",
       "        [14, 15, 16],\n",
       "        [11, 12, 13],\n",
       "        [14, 15, 16]],\n",
       "\n",
       "       [[11, 12, 13],\n",
       "        [14, 15, 16],\n",
       "        [11, 12, 13],\n",
       "        [14, 15, 16]]])"
      ]
     },
     "execution_count": 66,
     "metadata": {},
     "output_type": "execute_result"
    }
   ],
   "source": [
    "stacked_array_1 = np.stack((joined_array_1, joined_array_1))\n",
    "stacked_array_1"
   ]
  },
  {
   "cell_type": "code",
   "execution_count": 67,
   "id": "1a5b33ac-8a6d-4038-b8e6-7b89b2de67fe",
   "metadata": {},
   "outputs": [
    {
     "name": "stdout",
     "output_type": "stream",
     "text": [
      "[[[11 12 13]\n",
      "  [14 15 16]\n",
      "  [11 12 13]\n",
      "  [14 15 16]]\n",
      "\n",
      " [[11 12 13]\n",
      "  [14 15 16]\n",
      "  [11 12 13]\n",
      "  [14 15 16]]]\n"
     ]
    }
   ],
   "source": [
    "print(stacked_array_1)"
   ]
  },
  {
   "cell_type": "code",
   "execution_count": 72,
   "id": "c6bffc36-062a-4950-ac2f-beb4ebc566bd",
   "metadata": {},
   "outputs": [
    {
     "ename": "ValueError",
     "evalue": "all input arrays must have the same shape",
     "output_type": "error",
     "traceback": [
      "\u001b[1;31m---------------------------------------------------------------------------\u001b[0m",
      "\u001b[1;31mValueError\u001b[0m                                Traceback (most recent call last)",
      "Cell \u001b[1;32mIn[72], line 1\u001b[0m\n\u001b[1;32m----> 1\u001b[0m stacked_array_2 \u001b[38;5;241m=\u001b[39m \u001b[43mnp\u001b[49m\u001b[38;5;241;43m.\u001b[39;49m\u001b[43mstack\u001b[49m\u001b[43m(\u001b[49m\u001b[43m(\u001b[49m\u001b[43mjoined_array_1\u001b[49m\u001b[43m,\u001b[49m\u001b[43m \u001b[49m\u001b[43mjoined_array_2\u001b[49m\u001b[43m)\u001b[49m\u001b[43m)\u001b[49m\n\u001b[0;32m      2\u001b[0m stacked_array_2\n\u001b[0;32m      4\u001b[0m \u001b[38;5;66;03m# The error message I get is value error. That only integer scalar arrays can be converted to a scalar index meaning all input arrays must have the same shape\u001b[39;00m\n",
      "File \u001b[1;32m~\\AppData\\Local\\Programs\\Python\\Python312\\Lib\\site-packages\\numpy\\_core\\shape_base.py:457\u001b[0m, in \u001b[0;36mstack\u001b[1;34m(arrays, axis, out, dtype, casting)\u001b[0m\n\u001b[0;32m    455\u001b[0m shapes \u001b[38;5;241m=\u001b[39m {arr\u001b[38;5;241m.\u001b[39mshape \u001b[38;5;28;01mfor\u001b[39;00m arr \u001b[38;5;129;01min\u001b[39;00m arrays}\n\u001b[0;32m    456\u001b[0m \u001b[38;5;28;01mif\u001b[39;00m \u001b[38;5;28mlen\u001b[39m(shapes) \u001b[38;5;241m!=\u001b[39m \u001b[38;5;241m1\u001b[39m:\n\u001b[1;32m--> 457\u001b[0m     \u001b[38;5;28;01mraise\u001b[39;00m \u001b[38;5;167;01mValueError\u001b[39;00m(\u001b[38;5;124m'\u001b[39m\u001b[38;5;124mall input arrays must have the same shape\u001b[39m\u001b[38;5;124m'\u001b[39m)\n\u001b[0;32m    459\u001b[0m result_ndim \u001b[38;5;241m=\u001b[39m arrays[\u001b[38;5;241m0\u001b[39m]\u001b[38;5;241m.\u001b[39mndim \u001b[38;5;241m+\u001b[39m \u001b[38;5;241m1\u001b[39m\n\u001b[0;32m    460\u001b[0m axis \u001b[38;5;241m=\u001b[39m normalize_axis_index(axis, result_ndim)\n",
      "\u001b[1;31mValueError\u001b[0m: all input arrays must have the same shape"
     ]
    }
   ],
   "source": [
    "stacked_array_2 = np.stack((joined_array_1, joined_array_2))\n",
    "stacked_array_2\n",
    "\n",
    "# The error message I get is value error. That only integer scalar arrays can be converted to a scalar index meaning all input arrays must have the same shape"
   ]
  },
  {
   "cell_type": "code",
   "execution_count": 70,
   "id": "196fe9a9-ad3e-4cef-afca-2e369907184e",
   "metadata": {},
   "outputs": [
    {
     "data": {
      "text/plain": [
       "array([[11, 12, 13],\n",
       "       [14, 15, 16],\n",
       "       [11, 12, 13],\n",
       "       [14, 15, 16],\n",
       "       [11, 12, 13],\n",
       "       [14, 15, 16]])"
      ]
     },
     "execution_count": 70,
     "metadata": {},
     "output_type": "execute_result"
    }
   ],
   "source": [
    "another_joined_array = np.concatenate((joined_array_1, arrA))\n",
    "another_joined_array"
   ]
  },
  {
   "cell_type": "code",
   "execution_count": 73,
   "id": "cdd942b7-bef7-45d4-b0b8-3129bb238a68",
   "metadata": {
    "jupyter": {
     "source_hidden": true
    }
   },
   "outputs": [
    {
     "ename": "ValueError",
     "evalue": "all the input array dimensions except for the concatenation axis must match exactly, but along dimension 0, the array at index 0 has size 4 and the array at index 1 has size 2",
     "output_type": "error",
     "traceback": [
      "\u001b[1;31m---------------------------------------------------------------------------\u001b[0m",
      "\u001b[1;31mValueError\u001b[0m                                Traceback (most recent call last)",
      "Cell \u001b[1;32mIn[73], line 1\u001b[0m\n\u001b[1;32m----> 1\u001b[0m another_2 \u001b[38;5;241m=\u001b[39m \u001b[43mnp\u001b[49m\u001b[38;5;241;43m.\u001b[39;49m\u001b[43mconcatenate\u001b[49m\u001b[43m(\u001b[49m\u001b[43m(\u001b[49m\u001b[43mjoined_array_1\u001b[49m\u001b[43m,\u001b[49m\u001b[43m \u001b[49m\u001b[43marrA\u001b[49m\u001b[43m)\u001b[49m\u001b[43m,\u001b[49m\u001b[43m \u001b[49m\u001b[43maxis\u001b[49m\u001b[38;5;241;43m=\u001b[39;49m\u001b[38;5;241;43m1\u001b[39;49m\u001b[43m)\u001b[49m\n\u001b[0;32m      2\u001b[0m another_2\n\u001b[0;32m      3\u001b[0m \u001b[38;5;66;03m# The error message is basically saying that joined_array_1 has two a size of 4 or total number of elements in the array of 4 while arrA has a total number of elements in the array of 2 \u001b[39;00m\n",
      "\u001b[1;31mValueError\u001b[0m: all the input array dimensions except for the concatenation axis must match exactly, but along dimension 0, the array at index 0 has size 4 and the array at index 1 has size 2"
     ]
    }
   ],
   "source": [
    "another_2 = np.concatenate((joined_array_1, arrA), axis=1)\n",
    "another_2\n",
    "# The error message is basically saying that joined_array_1 has two a size of 4 or total number of elements in the array of 4 while arrA has a total number of elements in the array of 2 "
   ]
  },
  {
   "cell_type": "code",
   "execution_count": 74,
   "id": "3d26f9c4-437f-467a-a219-6112212a6253",
   "metadata": {},
   "outputs": [
    {
     "data": {
      "text/plain": [
       "array([[11, 12, 13],\n",
       "       [14, 15, 16],\n",
       "       [11, 12, 13],\n",
       "       [14, 15, 16]])"
      ]
     },
     "execution_count": 74,
     "metadata": {},
     "output_type": "execute_result"
    }
   ],
   "source": [
    "new1 = np.vstack((arrA,arrA))\n",
    "new1"
   ]
  },
  {
   "cell_type": "code",
   "execution_count": 86,
   "id": "0e59f899-3f97-4e6a-8889-6412ac3ecf51",
   "metadata": {},
   "outputs": [],
   "source": [
    "# vstack function is stacking the array in columns that are vertically"
   ]
  },
  {
   "cell_type": "code",
   "execution_count": 77,
   "id": "c23865a1-24c1-4ec2-9546-ba55ce8595c2",
   "metadata": {},
   "outputs": [
    {
     "name": "stdout",
     "output_type": "stream",
     "text": [
      "[[11 12 13]\n",
      " [14 15 16]\n",
      " [11 12 13]\n",
      " [14 15 16]]\n"
     ]
    }
   ],
   "source": [
    "print(new1)"
   ]
  },
  {
   "cell_type": "code",
   "execution_count": 76,
   "id": "b7788286-8270-44d1-948a-53f3d11b1e05",
   "metadata": {},
   "outputs": [
    {
     "data": {
      "text/plain": [
       "array([[11, 12, 13, 11, 12, 13],\n",
       "       [14, 15, 16, 14, 15, 16]])"
      ]
     },
     "execution_count": 76,
     "metadata": {},
     "output_type": "execute_result"
    }
   ],
   "source": [
    "new2 = np.hstack((arrA,arrA))\n",
    "new2"
   ]
  },
  {
   "cell_type": "code",
   "execution_count": 87,
   "id": "84a0ce0b-eaba-4b0d-885e-131a2ea9ed78",
   "metadata": {},
   "outputs": [],
   "source": [
    "# hstack function is stacking the array in rows that are horizontal"
   ]
  },
  {
   "cell_type": "code",
   "execution_count": 80,
   "id": "7b4a4d96-f58a-47cb-a4ed-8bd349c7c20b",
   "metadata": {},
   "outputs": [
    {
     "name": "stdout",
     "output_type": "stream",
     "text": [
      "[[11 12 13 11 12 13]\n",
      " [14 15 16 14 15 16]]\n"
     ]
    }
   ],
   "source": [
    "print(new2)"
   ]
  },
  {
   "cell_type": "code",
   "execution_count": 81,
   "id": "8bf97da0-face-41b1-ac36-ef2c74090a25",
   "metadata": {},
   "outputs": [
    {
     "data": {
      "text/plain": [
       "array([[[11, 11],\n",
       "        [12, 12],\n",
       "        [13, 13]],\n",
       "\n",
       "       [[14, 14],\n",
       "        [15, 15],\n",
       "        [16, 16]]])"
      ]
     },
     "execution_count": 81,
     "metadata": {},
     "output_type": "execute_result"
    }
   ],
   "source": [
    "new3 = np.dstack((arrA,arrA))\n",
    "new3"
   ]
  },
  {
   "cell_type": "code",
   "execution_count": 88,
   "id": "0435f3e1-3675-42c0-9eb7-42bdd9000437",
   "metadata": {},
   "outputs": [],
   "source": [
    "# dstack function is stacking the array in height making it 3 dimensional in depth"
   ]
  },
  {
   "cell_type": "code",
   "execution_count": 84,
   "id": "82bcb321-342a-4648-8910-2c50ba8f4d6d",
   "metadata": {},
   "outputs": [
    {
     "name": "stdout",
     "output_type": "stream",
     "text": [
      "[[[11 11]\n",
      "  [12 12]\n",
      "  [13 13]]\n",
      "\n",
      " [[14 14]\n",
      "  [15 15]\n",
      "  [16 16]]]\n"
     ]
    }
   ],
   "source": [
    "print(new3)"
   ]
  },
  {
   "cell_type": "markdown",
   "id": "afefd740-318d-4134-9fb6-18b04cfdd7d4",
   "metadata": {},
   "source": [
    "# Splitting Arrays "
   ]
  },
  {
   "cell_type": "code",
   "execution_count": 96,
   "id": "2fd0bca7-4029-4bfe-803c-6e53a2287736",
   "metadata": {},
   "outputs": [
    {
     "data": {
      "text/plain": [
       "[array([[11, 12, 13],\n",
       "        [14, 15, 16]]),\n",
       " array([[11, 12, 13],\n",
       "        [14, 15, 16]])]"
      ]
     },
     "execution_count": 96,
     "metadata": {},
     "output_type": "execute_result"
    }
   ],
   "source": [
    "splitsky = np.array_split(joined_array_1, 2)\n",
    "splitsky"
   ]
  },
  {
   "cell_type": "code",
   "execution_count": 97,
   "id": "a7bd4bbb-4d3e-4fa1-a06e-42a276c1fe2d",
   "metadata": {},
   "outputs": [
    {
     "name": "stdout",
     "output_type": "stream",
     "text": [
      "[array([[11, 12, 13],\n",
      "       [14, 15, 16]]), array([[11, 12, 13],\n",
      "       [14, 15, 16]])]\n"
     ]
    }
   ],
   "source": [
    "print(splitsky)\n",
    "# The result is two arrays with two dimensions each"
   ]
  },
  {
   "cell_type": "code",
   "execution_count": 94,
   "id": "4008f232-0533-447e-b29e-1649c9727f28",
   "metadata": {},
   "outputs": [
    {
     "data": {
      "text/plain": [
       "[array([[11, 12, 13],\n",
       "        [14, 15, 16]]),\n",
       " array([[11, 12, 13]]),\n",
       " array([[14, 15, 16]])]"
      ]
     },
     "execution_count": 94,
     "metadata": {},
     "output_type": "execute_result"
    }
   ],
   "source": [
    "spliterino = np.array_split(joined_array_1, 3)\n",
    "spliterino"
   ]
  },
  {
   "cell_type": "code",
   "execution_count": 95,
   "id": "d20172de-5914-4393-9f33-93a8c8c46dac",
   "metadata": {},
   "outputs": [
    {
     "name": "stdout",
     "output_type": "stream",
     "text": [
      "[array([[11, 12, 13],\n",
      "       [14, 15, 16]]), array([[11, 12, 13]]), array([[14, 15, 16]])]\n"
     ]
    }
   ],
   "source": [
    "print(spliterino)"
   ]
  },
  {
   "cell_type": "code",
   "execution_count": 98,
   "id": "bd6b8d6e-34d5-4cb8-9268-f54eec6631d5",
   "metadata": {},
   "outputs": [],
   "source": [
    "# The result is three arrays with two dimensions each"
   ]
  },
  {
   "cell_type": "markdown",
   "id": "1c4caa2a-9250-4c61-9104-9d7423b6ec9f",
   "metadata": {},
   "source": [
    "# Searching and Replacing Array Values"
   ]
  },
  {
   "cell_type": "code",
   "execution_count": 99,
   "id": "0a303e34-3d2e-4687-96c1-5ce279f63f99",
   "metadata": {},
   "outputs": [
    {
     "name": "stdout",
     "output_type": "stream",
     "text": [
      "[['odd' '12' 'odd']\n",
      " ['14' 'odd' '16']]\n"
     ]
    }
   ],
   "source": [
    "result_1 = np.where(arrA % 2 == 0, arrA, 'odd')\n",
    "print(result_1)"
   ]
  },
  {
   "cell_type": "markdown",
   "id": "821268e9-7edd-4de4-aaab-2964bb3b6aab",
   "metadata": {},
   "source": [
    "# Sorting and Filtering Arrays"
   ]
  },
  {
   "cell_type": "code",
   "execution_count": 100,
   "id": "7d6384e9-882a-4350-a267-9d89fdcc9adb",
   "metadata": {},
   "outputs": [
    {
     "data": {
      "text/plain": [
       "array([[ 7,  6],\n",
       "       [13,  5],\n",
       "       [ 7,  3]])"
      ]
     },
     "execution_count": 100,
     "metadata": {},
     "output_type": "execute_result"
    }
   ],
   "source": [
    "arrB = np.array([[7, 6],[13, 5], [7, 3]])\n",
    "arrB\n",
    "                            "
   ]
  },
  {
   "cell_type": "code",
   "execution_count": 101,
   "id": "f19a1e07-d07b-4113-9984-88610052f207",
   "metadata": {},
   "outputs": [
    {
     "data": {
      "text/plain": [
       "array([[ 6,  7],\n",
       "       [ 5, 13],\n",
       "       [ 3,  7]])"
      ]
     },
     "execution_count": 101,
     "metadata": {},
     "output_type": "execute_result"
    }
   ],
   "source": [
    "arrB_sorted = np.sort(arrB)\n",
    "arrB_sorted\n"
   ]
  },
  {
   "cell_type": "code",
   "execution_count": 102,
   "id": "9cf3c6a7-bb82-4298-8297-050c3b718ea0",
   "metadata": {},
   "outputs": [
    {
     "name": "stdout",
     "output_type": "stream",
     "text": [
      "[[ 6  7]\n",
      " [ 5 13]\n",
      " [ 3  7]]\n"
     ]
    }
   ],
   "source": [
    "print(arrB_sorted)"
   ]
  },
  {
   "cell_type": "code",
   "execution_count": 103,
   "id": "1ab8c166-7f15-41f4-bf79-e6e804c3f94c",
   "metadata": {},
   "outputs": [
    {
     "name": "stdout",
     "output_type": "stream",
     "text": [
      "[[ 7  6]\n",
      " [13  5]\n",
      " [ 7  3]]\n"
     ]
    }
   ],
   "source": [
    "print(arrB)"
   ]
  },
  {
   "cell_type": "code",
   "execution_count": 105,
   "id": "41a64550-37a1-4e2b-b640-603a034eadac",
   "metadata": {},
   "outputs": [
    {
     "name": "stdout",
     "output_type": "stream",
     "text": [
      "[6 5 3]\n"
     ]
    }
   ],
   "source": [
    "z = arrB < 7 \n",
    "arrC = arrB[z]\n",
    "print(arrC)"
   ]
  },
  {
   "cell_type": "code",
   "execution_count": 106,
   "id": "a1c9f64f-fceb-4bf1-9a57-9dc8b7ac03cf",
   "metadata": {},
   "outputs": [
    {
     "name": "stdout",
     "output_type": "stream",
     "text": [
      "[ 7 13  7]\n"
     ]
    }
   ],
   "source": [
    "y = arrB >= 7\n",
    "arrD = arrB[y]\n",
    "print(arrD)"
   ]
  },
  {
   "cell_type": "code",
   "execution_count": null,
   "id": "c37af746-1489-4d61-bed2-60a75070b5a6",
   "metadata": {},
   "outputs": [],
   "source": []
  }
 ],
 "metadata": {
  "kernelspec": {
   "display_name": "Python 3 (ipykernel)",
   "language": "python",
   "name": "python3"
  },
  "language_info": {
   "codemirror_mode": {
    "name": "ipython",
    "version": 3
   },
   "file_extension": ".py",
   "mimetype": "text/x-python",
   "name": "python",
   "nbconvert_exporter": "python",
   "pygments_lexer": "ipython3",
   "version": "3.12.3"
  }
 },
 "nbformat": 4,
 "nbformat_minor": 5
}
