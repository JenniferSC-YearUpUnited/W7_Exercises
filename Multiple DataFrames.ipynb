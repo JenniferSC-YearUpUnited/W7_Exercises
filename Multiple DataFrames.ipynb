{
 "cells": [
  {
   "cell_type": "code",
   "execution_count": 1,
   "id": "8184ca92-925f-4553-9acf-04db5be891ae",
   "metadata": {},
   "outputs": [],
   "source": [
    "import numpy as np\n",
    "import pandas as pd"
   ]
  },
  {
   "cell_type": "markdown",
   "id": "4cd616a1-efef-4fd3-9adb-e1de4ca3067c",
   "metadata": {},
   "source": [
    "# Basic Aggregations"
   ]
  },
  {
   "cell_type": "code",
   "execution_count": 64,
   "id": "cc51b37a-c465-40c8-a3ce-edd7e4fc285d",
   "metadata": {},
   "outputs": [],
   "source": [
    "data = {'Product': ['A', 'B', 'C', 'A', 'B', 'C', 'A', 'B', 'C'], \n",
    "'Region': ['North', 'South', 'East', 'West', 'North', 'South', 'East', 'West', 'North'], \n",
    "'Units_Sold': [10, 15, 20, 5, 10, 15, 10, 5, 15], \n",
    "'Price': [100, 200, 150, 100, 200, 150, 100, 200, 150]} "
   ]
  },
  {
   "cell_type": "code",
   "execution_count": 65,
   "id": "49a47ac1-e4a5-407f-a15c-4c154df52ebb",
   "metadata": {},
   "outputs": [],
   "source": [
    "df_sales = pd.DataFrame(data)"
   ]
  },
  {
   "cell_type": "code",
   "execution_count": 66,
   "id": "a4baaced-7a40-4ab9-9ff4-c9e2a9ef70af",
   "metadata": {},
   "outputs": [
    {
     "data": {
      "text/html": [
       "<div>\n",
       "<style scoped>\n",
       "    .dataframe tbody tr th:only-of-type {\n",
       "        vertical-align: middle;\n",
       "    }\n",
       "\n",
       "    .dataframe tbody tr th {\n",
       "        vertical-align: top;\n",
       "    }\n",
       "\n",
       "    .dataframe thead th {\n",
       "        text-align: right;\n",
       "    }\n",
       "</style>\n",
       "<table border=\"1\" class=\"dataframe\">\n",
       "  <thead>\n",
       "    <tr style=\"text-align: right;\">\n",
       "      <th></th>\n",
       "      <th>Product</th>\n",
       "      <th>Region</th>\n",
       "      <th>Units_Sold</th>\n",
       "      <th>Price</th>\n",
       "    </tr>\n",
       "  </thead>\n",
       "  <tbody>\n",
       "    <tr>\n",
       "      <th>0</th>\n",
       "      <td>A</td>\n",
       "      <td>North</td>\n",
       "      <td>10</td>\n",
       "      <td>100</td>\n",
       "    </tr>\n",
       "    <tr>\n",
       "      <th>1</th>\n",
       "      <td>B</td>\n",
       "      <td>South</td>\n",
       "      <td>15</td>\n",
       "      <td>200</td>\n",
       "    </tr>\n",
       "    <tr>\n",
       "      <th>2</th>\n",
       "      <td>C</td>\n",
       "      <td>East</td>\n",
       "      <td>20</td>\n",
       "      <td>150</td>\n",
       "    </tr>\n",
       "    <tr>\n",
       "      <th>3</th>\n",
       "      <td>A</td>\n",
       "      <td>West</td>\n",
       "      <td>5</td>\n",
       "      <td>100</td>\n",
       "    </tr>\n",
       "    <tr>\n",
       "      <th>4</th>\n",
       "      <td>B</td>\n",
       "      <td>North</td>\n",
       "      <td>10</td>\n",
       "      <td>200</td>\n",
       "    </tr>\n",
       "    <tr>\n",
       "      <th>5</th>\n",
       "      <td>C</td>\n",
       "      <td>South</td>\n",
       "      <td>15</td>\n",
       "      <td>150</td>\n",
       "    </tr>\n",
       "    <tr>\n",
       "      <th>6</th>\n",
       "      <td>A</td>\n",
       "      <td>East</td>\n",
       "      <td>10</td>\n",
       "      <td>100</td>\n",
       "    </tr>\n",
       "    <tr>\n",
       "      <th>7</th>\n",
       "      <td>B</td>\n",
       "      <td>West</td>\n",
       "      <td>5</td>\n",
       "      <td>200</td>\n",
       "    </tr>\n",
       "    <tr>\n",
       "      <th>8</th>\n",
       "      <td>C</td>\n",
       "      <td>North</td>\n",
       "      <td>15</td>\n",
       "      <td>150</td>\n",
       "    </tr>\n",
       "  </tbody>\n",
       "</table>\n",
       "</div>"
      ],
      "text/plain": [
       "  Product Region  Units_Sold  Price\n",
       "0       A  North          10    100\n",
       "1       B  South          15    200\n",
       "2       C   East          20    150\n",
       "3       A   West           5    100\n",
       "4       B  North          10    200\n",
       "5       C  South          15    150\n",
       "6       A   East          10    100\n",
       "7       B   West           5    200\n",
       "8       C  North          15    150"
      ]
     },
     "execution_count": 66,
     "metadata": {},
     "output_type": "execute_result"
    }
   ],
   "source": [
    "df_sales"
   ]
  },
  {
   "cell_type": "code",
   "execution_count": 67,
   "id": "34a73500-bdff-45c3-ba24-641afdc89d4e",
   "metadata": {},
   "outputs": [],
   "source": [
    "df_sales[\"Revenue\"] = df_sales[\"Units_Sold\"] * df_sales[\"Price\"]"
   ]
  },
  {
   "cell_type": "code",
   "execution_count": 68,
   "id": "b90b251b-62b4-4cf8-9be7-a8fc32903fe9",
   "metadata": {},
   "outputs": [
    {
     "name": "stdout",
     "output_type": "stream",
     "text": [
      "  Product Region  Units_Sold  Price  Revenue\n",
      "0       A  North          10    100     1000\n",
      "1       B  South          15    200     3000\n",
      "2       C   East          20    150     3000\n",
      "3       A   West           5    100      500\n",
      "4       B  North          10    200     2000\n",
      "5       C  South          15    150     2250\n",
      "6       A   East          10    100     1000\n",
      "7       B   West           5    200     1000\n",
      "8       C  North          15    150     2250\n"
     ]
    }
   ],
   "source": [
    "print(df_sales)"
   ]
  },
  {
   "cell_type": "code",
   "execution_count": 69,
   "id": "5bb63953-9fd0-4953-9496-2a8b9cbaca11",
   "metadata": {},
   "outputs": [],
   "source": [
    "list = [\"Units_Sold\", \"Revenue\"]"
   ]
  },
  {
   "cell_type": "code",
   "execution_count": 70,
   "id": "16b0f22b-d3d4-4dc6-9ceb-544017ff8df7",
   "metadata": {},
   "outputs": [
    {
     "name": "stdout",
     "output_type": "stream",
     "text": [
      "  Product Region  Units_Sold  Price  Revenue   Sum\n",
      "0       A  North          10    100     1000  1010\n",
      "1       B  South          15    200     3000  3015\n",
      "2       C   East          20    150     3000  3020\n",
      "3       A   West           5    100      500   505\n",
      "4       B  North          10    200     2000  2010\n",
      "5       C  South          15    150     2250  2265\n",
      "6       A   East          10    100     1000  1010\n",
      "7       B   West           5    200     1000  1005\n",
      "8       C  North          15    150     2250  2265\n"
     ]
    }
   ],
   "source": [
    "df_sales['Sum'] = df_sales[list].sum(axis=1)\n",
    "print(df_sales)"
   ]
  },
  {
   "cell_type": "code",
   "execution_count": 71,
   "id": "6be87e9e-4b52-447e-be88-b7f6d09ad3e0",
   "metadata": {},
   "outputs": [
    {
     "name": "stdout",
     "output_type": "stream",
     "text": [
      "  Product Region  Units_Sold  Price  Revenue   Sum     Avg\n",
      "0       A  North          10    100     1000  1010   505.0\n",
      "1       B  South          15    200     3000  3015  1507.5\n",
      "2       C   East          20    150     3000  3020  1510.0\n",
      "3       A   West           5    100      500   505   252.5\n",
      "4       B  North          10    200     2000  2010  1005.0\n",
      "5       C  South          15    150     2250  2265  1132.5\n",
      "6       A   East          10    100     1000  1010   505.0\n",
      "7       B   West           5    200     1000  1005   502.5\n",
      "8       C  North          15    150     2250  2265  1132.5\n"
     ]
    }
   ],
   "source": [
    "df_sales['Avg'] = df_sales[list].mean(axis=1)\n",
    "print(df_sales)"
   ]
  },
  {
   "cell_type": "markdown",
   "id": "53de2d87-b71a-4da6-a747-d398afc06237",
   "metadata": {},
   "source": [
    "# Grouping Data"
   ]
  },
  {
   "cell_type": "code",
   "execution_count": 79,
   "id": "96252179-d658-4939-8862-0f3aba5b0d22",
   "metadata": {},
   "outputs": [
    {
     "data": {
      "text/html": [
       "<div>\n",
       "<style scoped>\n",
       "    .dataframe tbody tr th:only-of-type {\n",
       "        vertical-align: middle;\n",
       "    }\n",
       "\n",
       "    .dataframe tbody tr th {\n",
       "        vertical-align: top;\n",
       "    }\n",
       "\n",
       "    .dataframe thead th {\n",
       "        text-align: right;\n",
       "    }\n",
       "</style>\n",
       "<table border=\"1\" class=\"dataframe\">\n",
       "  <thead>\n",
       "    <tr style=\"text-align: right;\">\n",
       "      <th></th>\n",
       "      <th>Units_Sold</th>\n",
       "      <th>Revenue</th>\n",
       "    </tr>\n",
       "    <tr>\n",
       "      <th>Product</th>\n",
       "      <th></th>\n",
       "      <th></th>\n",
       "    </tr>\n",
       "  </thead>\n",
       "  <tbody>\n",
       "    <tr>\n",
       "      <th>A</th>\n",
       "      <td>25</td>\n",
       "      <td>2500</td>\n",
       "    </tr>\n",
       "    <tr>\n",
       "      <th>B</th>\n",
       "      <td>30</td>\n",
       "      <td>6000</td>\n",
       "    </tr>\n",
       "    <tr>\n",
       "      <th>C</th>\n",
       "      <td>50</td>\n",
       "      <td>7500</td>\n",
       "    </tr>\n",
       "  </tbody>\n",
       "</table>\n",
       "</div>"
      ],
      "text/plain": [
       "         Units_Sold  Revenue\n",
       "Product                     \n",
       "A                25     2500\n",
       "B                30     6000\n",
       "C                50     7500"
      ]
     },
     "execution_count": 79,
     "metadata": {},
     "output_type": "execute_result"
    }
   ],
   "source": [
    "df_sales.groupby([\"Product\"])[[\"Units_Sold\",\"Revenue\"]].sum()"
   ]
  },
  {
   "cell_type": "code",
   "execution_count": null,
   "id": "a8d545fe-7a3c-4936-9d48-b9e8ff6f9a95",
   "metadata": {},
   "outputs": [],
   "source": []
  }
 ],
 "metadata": {
  "kernelspec": {
   "display_name": "Python 3 (ipykernel)",
   "language": "python",
   "name": "python3"
  },
  "language_info": {
   "codemirror_mode": {
    "name": "ipython",
    "version": 3
   },
   "file_extension": ".py",
   "mimetype": "text/x-python",
   "name": "python",
   "nbconvert_exporter": "python",
   "pygments_lexer": "ipython3",
   "version": "3.12.3"
  }
 },
 "nbformat": 4,
 "nbformat_minor": 5
}
