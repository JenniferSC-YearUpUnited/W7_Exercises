{
 "cells": [
  {
   "cell_type": "code",
   "execution_count": 7,
   "id": "843b82f5-c8b8-4229-bd5b-7fd6f06a5ff4",
   "metadata": {},
   "outputs": [],
   "source": [
    "import numpy as np"
   ]
  },
  {
   "cell_type": "markdown",
   "id": "4e0d2958-60f1-4a3d-aef9-12049b190f1b",
   "metadata": {},
   "source": [
    "# Generating Random Numbers"
   ]
  },
  {
   "cell_type": "code",
   "execution_count": 8,
   "id": "9d83635f-4171-444b-9c2c-c74d13c67ad7",
   "metadata": {},
   "outputs": [
    {
     "data": {
      "text/plain": [
       "array([ 5, 17], dtype=int32)"
      ]
     },
     "execution_count": 8,
     "metadata": {},
     "output_type": "execute_result"
    }
   ],
   "source": [
    "r_1 = np.random.randint(1, 20, size =(2))\n",
    "r_1"
   ]
  },
  {
   "cell_type": "code",
   "execution_count": 9,
   "id": "e6426718-bd47-4f26-9070-2878b8002fca",
   "metadata": {},
   "outputs": [
    {
     "name": "stdout",
     "output_type": "stream",
     "text": [
      "[ 5 17]\n"
     ]
    }
   ],
   "source": [
    "print(r_1)"
   ]
  },
  {
   "cell_type": "code",
   "execution_count": 10,
   "id": "b1ae65a8-9a44-497c-848f-eb0201e23b2a",
   "metadata": {},
   "outputs": [
    {
     "data": {
      "text/plain": [
       "array([[18, 19]], dtype=int32)"
      ]
     },
     "execution_count": 10,
     "metadata": {},
     "output_type": "execute_result"
    }
   ],
   "source": [
    "r_2 = np.random.randint(1, 20, size=(1, 2,))\n",
    "r_2"
   ]
  },
  {
   "cell_type": "code",
   "execution_count": 11,
   "id": "e07c6994-e38b-4df8-8efb-262bfffe7173",
   "metadata": {},
   "outputs": [
    {
     "name": "stdout",
     "output_type": "stream",
     "text": [
      "[[18 19]]\n"
     ]
    }
   ],
   "source": [
    "print(r_2)"
   ]
  },
  {
   "cell_type": "code",
   "execution_count": 12,
   "id": "b9c50872-3958-45c7-83ef-0b34220cfc89",
   "metadata": {},
   "outputs": [
    {
     "data": {
      "text/plain": [
       "array([[0.00467514],\n",
       "       [0.70369997]])"
      ]
     },
     "execution_count": 12,
     "metadata": {},
     "output_type": "execute_result"
    }
   ],
   "source": [
    "r_3 = np.random.rand(2, 1)\n",
    "r_3"
   ]
  },
  {
   "cell_type": "code",
   "execution_count": 13,
   "id": "9f9fd5f3-adb0-4149-9fd4-6dfbce2c7932",
   "metadata": {},
   "outputs": [
    {
     "name": "stdout",
     "output_type": "stream",
     "text": [
      "[[0.00467514]\n",
      " [0.70369997]]\n"
     ]
    }
   ],
   "source": [
    "print(r_3)"
   ]
  },
  {
   "cell_type": "code",
   "execution_count": 14,
   "id": "cb0874d1-eef1-4329-8b9e-d2b6df2f76f6",
   "metadata": {},
   "outputs": [
    {
     "data": {
      "text/plain": [
       "array([[79, 51, 93, 54, 99],\n",
       "       [95, 50, 53, 56, 81],\n",
       "       [43, 84, 84, 56, 51],\n",
       "       [73, 45, 71, 38, 22]], dtype=int32)"
      ]
     },
     "execution_count": 14,
     "metadata": {},
     "output_type": "execute_result"
    }
   ],
   "source": [
    "r_4 = np.random.randint(20, 100, size=(4, 5))\n",
    "r_4"
   ]
  },
  {
   "cell_type": "code",
   "execution_count": 15,
   "id": "1e0a818c-94f8-4dcd-ac1e-ea6a2e397e32",
   "metadata": {},
   "outputs": [
    {
     "name": "stdout",
     "output_type": "stream",
     "text": [
      "[[79 51 93 54 99]\n",
      " [95 50 53 56 81]\n",
      " [43 84 84 56 51]\n",
      " [73 45 71 38 22]]\n"
     ]
    }
   ],
   "source": [
    "print(r_4)"
   ]
  },
  {
   "cell_type": "code",
   "execution_count": 16,
   "id": "52094c6a-840e-423c-b5e2-3a34f950af89",
   "metadata": {},
   "outputs": [
    {
     "data": {
      "text/plain": [
       "array([[0.37317918, 0.36258366, 0.29885141, 0.83682967, 0.08051186],\n",
       "       [0.71724758, 0.71889882, 0.74351431, 0.05913451, 0.59582472],\n",
       "       [0.10344199, 0.88700186, 0.76399889, 0.56275549, 0.58216639],\n",
       "       [0.38204955, 0.13100102, 0.43788664, 0.50071024, 0.94158416]])"
      ]
     },
     "execution_count": 16,
     "metadata": {},
     "output_type": "execute_result"
    }
   ],
   "source": [
    "r_5 = np.random.rand(4, 5)\n",
    "r_5"
   ]
  },
  {
   "cell_type": "code",
   "execution_count": 17,
   "id": "cdb3f08a-5624-4cd6-b54b-0c7ebc20514c",
   "metadata": {},
   "outputs": [
    {
     "name": "stdout",
     "output_type": "stream",
     "text": [
      "[[0.37317918 0.36258366 0.29885141 0.83682967 0.08051186]\n",
      " [0.71724758 0.71889882 0.74351431 0.05913451 0.59582472]\n",
      " [0.10344199 0.88700186 0.76399889 0.56275549 0.58216639]\n",
      " [0.38204955 0.13100102 0.43788664 0.50071024 0.94158416]]\n"
     ]
    }
   ],
   "source": [
    "print(r_5)"
   ]
  },
  {
   "cell_type": "markdown",
   "id": "2839b0f0-c880-4e48-90f9-11dd7ac00b5f",
   "metadata": {},
   "source": [
    "# Generating Random Choices from an Array"
   ]
  },
  {
   "cell_type": "code",
   "execution_count": 18,
   "id": "9b25c3d1-abce-499c-b65f-76bada73e5b8",
   "metadata": {},
   "outputs": [],
   "source": [
    "students = np.array(['jordan', 'hassan', 'jacob', 'rodolfo', 'vieri', 'symone', 'vanessa', 'craig', 'zainab', 'anthony', 'jaela', 'caitlan'])"
   ]
  },
  {
   "cell_type": "code",
   "execution_count": 19,
   "id": "a2382eeb-0b57-4827-b563-4af18b931516",
   "metadata": {},
   "outputs": [
    {
     "data": {
      "text/plain": [
       "np.str_('symone')"
      ]
     },
     "execution_count": 19,
     "metadata": {},
     "output_type": "execute_result"
    }
   ],
   "source": [
    "call_on = np.random.choice(students)\n",
    "call_on"
   ]
  },
  {
   "cell_type": "code",
   "execution_count": 20,
   "id": "dccb54ff-c677-4d9d-a567-0834d108202e",
   "metadata": {},
   "outputs": [
    {
     "name": "stdout",
     "output_type": "stream",
     "text": [
      "symone\n"
     ]
    }
   ],
   "source": [
    "print(call_on)"
   ]
  },
  {
   "cell_type": "code",
   "execution_count": 21,
   "id": "3c14388c-2b6f-4355-9840-e53d84d08f4a",
   "metadata": {},
   "outputs": [
    {
     "data": {
      "text/plain": [
       "array([['vanessa', 'hassan', 'zainab', 'rodolfo'],\n",
       "       ['jacob', 'vanessa', 'jordan', 'symone'],\n",
       "       ['craig', 'craig', 'craig', 'vieri']], dtype='<U7')"
      ]
     },
     "execution_count": 21,
     "metadata": {},
     "output_type": "execute_result"
    }
   ],
   "source": [
    "breakout_groups = np.random.choice(students, size=(3, 4))\n",
    "breakout_groups"
   ]
  },
  {
   "cell_type": "code",
   "execution_count": 22,
   "id": "071c7170-bc0e-4ef0-b176-b5aa72454e19",
   "metadata": {},
   "outputs": [
    {
     "name": "stdout",
     "output_type": "stream",
     "text": [
      "[['vanessa' 'hassan' 'zainab' 'rodolfo']\n",
      " ['jacob' 'vanessa' 'jordan' 'symone']\n",
      " ['craig' 'craig' 'craig' 'vieri']]\n"
     ]
    }
   ],
   "source": [
    "print(breakout_groups)\n",
    "# This would not be an effective way to assign breakout groups because even though the students are chosen randomly, there are repeated names.They can't be at one breakout room once while in a different breakout room more than once."
   ]
  },
  {
   "cell_type": "code",
   "execution_count": 26,
   "id": "7a30dcf5-ab5e-489d-ae9e-83ab14617913",
   "metadata": {},
   "outputs": [
    {
     "data": {
      "text/plain": [
       "array(['craig', 'hassan', 'vanessa', 'anthony', 'hassan'], dtype='<U7')"
      ]
     },
     "execution_count": 26,
     "metadata": {},
     "output_type": "execute_result"
    }
   ],
   "source": [
    "call_on_weighted = np.random.choice(students, p=[0.0, 0.3, 0.07, 0.07, 0.07, 0.07, 0.07, 0.07, 0.07, 0.07, 0.07, 0.07], size=(5))\n",
    "call_on_weighted\n",
    "                "
   ]
  },
  {
   "cell_type": "code",
   "execution_count": 29,
   "id": "784da5b3-97b9-4c74-bf86-83f2dead78f8",
   "metadata": {},
   "outputs": [],
   "source": [
    "# I chose the p values I assigned to each student for at least one student to never occur as it has a p value of zero, one student is more likely to occur as it has a p value of 30%. For the rest of the 10 student I had to give them a p value of 7% each to make the total of all probability values equal to 1."
   ]
  },
  {
   "cell_type": "markdown",
   "id": "26e6c6cd-b8b4-4f87-9dac-aa0b6dc58481",
   "metadata": {},
   "source": [
    "# Generating a Normal Distribution "
   ]
  },
  {
   "cell_type": "code",
   "execution_count": 27,
   "id": "d4ae0a0a-f3b8-4cb2-9fb5-4343ee982ad1",
   "metadata": {},
   "outputs": [
    {
     "data": {
      "text/plain": [
       "array([[ 4.50598784, 13.06000451,  0.2044867 ,  5.11714981,  7.17642707],\n",
       "       [12.24394091,  7.18940246, -2.00130211, 10.32550159,  2.80481957],\n",
       "       [13.55667333, 11.2689616 , 17.47486185,  8.88732212, 13.38063276],\n",
       "       [15.24571776,  8.04765886,  8.04977527, 10.17516284, 14.47041829]])"
      ]
     },
     "execution_count": 27,
     "metadata": {},
     "output_type": "execute_result"
    }
   ],
   "source": [
    "bell_curve = np.random.normal(loc=10, scale=5, size=(4, 5))\n",
    "bell_curve"
   ]
  },
  {
   "cell_type": "code",
   "execution_count": 28,
   "id": "ecd08d1c-1b3d-437d-a7df-033a5a84480d",
   "metadata": {},
   "outputs": [
    {
     "name": "stdout",
     "output_type": "stream",
     "text": [
      "[[ 4.50598784 13.06000451  0.2044867   5.11714981  7.17642707]\n",
      " [12.24394091  7.18940246 -2.00130211 10.32550159  2.80481957]\n",
      " [13.55667333 11.2689616  17.47486185  8.88732212 13.38063276]\n",
      " [15.24571776  8.04765886  8.04977527 10.17516284 14.47041829]]\n"
     ]
    }
   ],
   "source": [
    "print(bell_curve)"
   ]
  },
  {
   "cell_type": "code",
   "execution_count": null,
   "id": "ce014a51-e624-486e-b999-65bcf83676f0",
   "metadata": {},
   "outputs": [],
   "source": []
  }
 ],
 "metadata": {
  "kernelspec": {
   "display_name": "Python 3 (ipykernel)",
   "language": "python",
   "name": "python3"
  },
  "language_info": {
   "codemirror_mode": {
    "name": "ipython",
    "version": 3
   },
   "file_extension": ".py",
   "mimetype": "text/x-python",
   "name": "python",
   "nbconvert_exporter": "python",
   "pygments_lexer": "ipython3",
   "version": "3.12.3"
  }
 },
 "nbformat": 4,
 "nbformat_minor": 5
}
